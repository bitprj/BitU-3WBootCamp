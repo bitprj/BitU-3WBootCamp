{
  "nbformat": 4,
  "nbformat_minor": 0,
  "metadata": {
    "colab": {
      "name": "Sac-State-Notebook.ipynb",
      "provenance": [],
      "collapsed_sections": [],
      "toc_visible": true,
      "include_colab_link": true
    },
    "kernelspec": {
      "name": "python3",
      "display_name": "Python 3"
    }
  },
  "cells": [
    {
      "cell_type": "markdown",
      "metadata": {
        "id": "view-in-github",
        "colab_type": "text"
      },
      "source": [
        "<a href=\"https://colab.research.google.com/github/bitprj/BitU-3WBootCamp/blob/main/Week_4/Sac_State_Notebook.ipynb\" target=\"_parent\"><img src=\"https://colab.research.google.com/assets/colab-badge.svg\" alt=\"Open In Colab\"/></a>"
      ]
    },
    {
      "cell_type": "markdown",
      "metadata": {
        "id": "f0_IggpYdWw4"
      },
      "source": [
        "# <div align=\"center\"> Module 4: Lab </div>"
      ]
    },
    {
      "cell_type": "markdown",
      "metadata": {
        "id": "qh5vBQaCdco9"
      },
      "source": [
        "# <div align=\"center\"> Experimental</div>"
      ]
    },
    {
      "cell_type": "markdown",
      "metadata": {
        "id": "pz50__8SQQK3"
      },
      "source": [
        "#Grading\n",
        "In order to work on the questions in this Practicum and submit them for grading, you'll need to run the code block below. It will ask for your student ID number and then create a folder that will house your answers for each question. At the very end of the notebook, there is a code section that will download this folder as a zip file to your computer. This zip file will be your final submission."
      ]
    },
    {
      "cell_type": "code",
      "metadata": {
        "id": "K8lrutzLQXVb"
      },
      "source": [
        "import os\n",
        "import shutil\n",
        "\n",
        "!rm -rf sample_data\n",
        "\n",
        "student_id = input('Please Enter your Student ID: ') # Enter Student ID.\n",
        "\n",
        "while len(student_id) != 9:\n",
        " student_id = int('Please Enter your Student ID: ')  \n",
        "  \n",
        "folder_location = f'{student_id}/Week_Six/Practicum'\n",
        "if not os.path.exists(folder_location):\n",
        "  os.makedirs(folder_location)\n",
        "  print('Successfully Created Directory, Lets get started')\n",
        "else:\n",
        "  print('Directory Already Exists')"
      ],
      "execution_count": null,
      "outputs": []
    },
    {
      "cell_type": "markdown",
      "metadata": {
        "id": "3c6LnG3QDzmB"
      },
      "source": [
        "## Part 1 - Basic Setup\n"
      ]
    },
    {
      "cell_type": "markdown",
      "metadata": {
        "id": "ukV8nQksHw7e"
      },
      "source": [
        "### Q1 - Load Libraries "
      ]
    },
    {
      "cell_type": "code",
      "metadata": {
        "id": "0niYQTRFiV0j"
      },
      "source": [
        "#Once your have verified your answer please uncomment the line below and run it, this will save your code \n",
        "#%%writefile -a {folder_location}/1.py\n",
        "#Please note that if you uncomment and run multiple times, the program will keep appending to the file.\n",
        "\n",
        "\n",
        "import _________________ as plt  # INSERT CODE HERE\n",
        "import ______ as pd  # INSERT CODE HERE\n",
        "\n",
        "%matplotlib inline"
      ],
      "execution_count": null,
      "outputs": []
    },
    {
      "cell_type": "markdown",
      "metadata": {
        "id": "KoVXOb_NDM9t"
      },
      "source": [
        "### Q2 - Load file to Dataframe"
      ]
    },
    {
      "cell_type": "code",
      "metadata": {
        "id": "KcbxdH0WiYDA"
      },
      "source": [
        "#Once your have verified your answer please uncomment the line below and run it, this will save your code \n",
        "#%%writefile -a {folder_location}/1.py\n",
        "#Please note that if you uncomment and run multiple times, the program will keep appending to the file.\n",
        "\n",
        "\n",
        "url = 'https://raw.githubusercontent.com/bitprj/BitU-3WBootCamp/main/Week_4/SAC_STATE_DATASET.csv'\n",
        "df = __.read_csv(___)  # INSERT CODE HERE\n"
      ],
      "execution_count": null,
      "outputs": []
    },
    {
      "cell_type": "code",
      "metadata": {
        "id": "SlEOsX9NpuhB"
      },
      "source": [
        "df"
      ],
      "execution_count": null,
      "outputs": []
    },
    {
      "cell_type": "markdown",
      "metadata": {
        "id": "sRSsaxb9DSdb"
      },
      "source": [
        "### Q3 - Renaming Columns"
      ]
    },
    {
      "cell_type": "code",
      "metadata": {
        "id": "aHlVT7B-c4Iv"
      },
      "source": [
        "\n",
        "df = df.rename(columns = {\n",
        "    'INSERT_COLUMN_NAME': 'respondent_year',\n",
        "    'INSERT_COLUMN_NAME' : 'confidence_in_supreme_court',\n",
        "    'INSERT_COLUMN_NAME' : 'city_of_residence',\n",
        "    'INSERT_COLUMN_NAME' : 'improving_national_reducation_system',\n",
        "    'INSERT_COLUMN_NAME' : 'solving_big_city_problems',\n",
        "    'INSERT_COLUMN_NAME' : 'respondents_income',\n",
        "    'INSERT_COLUMN_NAME' : 'total_family_income',\n",
        "    'INSERT_COLUMN_NAME' : 'respondents_race',\n",
        "    'INSERT_COLUMN_NAME' : 'respondents_sex',\n",
        "    \"INSERT_COLUMN_NAME\" : 'marital_status',\n",
        "    \"INSERT_COLUMN_NAME\": 'respondents_id_num' ,\n",
        "    \"INSERT_COLUMN_NAME\" : \"ballot_used\"\n",
        "})\n",
        "\n",
        "\n"
      ],
      "execution_count": null,
      "outputs": []
    },
    {
      "cell_type": "markdown",
      "metadata": {
        "id": "HgjmUo3AH7Xz"
      },
      "source": [
        "### **Observing the Dataset Using Pandas**\n",
        "Now, the dataset is loaded as a dataframe `df`."
      ]
    },
    {
      "cell_type": "markdown",
      "metadata": {
        "id": "kKnjvrtBIBqx"
      },
      "source": [
        "### Q4 - **head()**\n",
        "Let's check what columns this file has by calling `head()` function. It returns first n rows, and it's useful to see the dataset at a quick glance.\n",
        "\n",
        "By default, the head() function returns the first 5 rows.\n",
        "\n",
        "You can specify the number of rows to display by calling df.head(number)"
      ]
    },
    {
      "cell_type": "code",
      "metadata": {
        "id": "7G6i6H1efIdk"
      },
      "source": [
        "\n",
        "# INSERT CODE HERE\n",
        "\n"
      ],
      "execution_count": null,
      "outputs": []
    },
    {
      "cell_type": "markdown",
      "metadata": {
        "id": "6mE5p-aaIVDm"
      },
      "source": [
        "### Q5 - **tail()**\n",
        "The `tail()` method prints the last 5 rows of our dataset."
      ]
    },
    {
      "cell_type": "code",
      "metadata": {
        "id": "jjf8KASjfJY3"
      },
      "source": [
        "\n",
        "# INSERT CODE HERE\n",
        "\n",
        "\n"
      ],
      "execution_count": null,
      "outputs": []
    },
    {
      "cell_type": "markdown",
      "metadata": {
        "id": "Cc9xu4stIecZ"
      },
      "source": [
        "### Q6 - **info()**\n",
        "This will return all of the column  names and its types. This function is useful to get the idea of what the dataframe is like."
      ]
    },
    {
      "cell_type": "code",
      "metadata": {
        "id": "XkeNDCRrfN6e"
      },
      "source": [
        "\n",
        "# INSERT CODE HERE\n"
      ],
      "execution_count": null,
      "outputs": []
    },
    {
      "cell_type": "markdown",
      "metadata": {
        "id": "-bwydbMjJIaO"
      },
      "source": [
        "###**Observations**\n",
        "*****Questions:*****\n",
        "- List down the number of unique `Dtype` in this dataset\n",
        "- Is the datset uneven? If so list downthe column with the most missing rows?"
      ]
    },
    {
      "cell_type": "markdown",
      "metadata": {
        "id": "PqSFXfcWfL77"
      },
      "source": [
        "### Q7 - **describe()**\n",
        "`describe()` is used to view summary statistics of numeric columns. this will help you to have a general idea of the dataset."
      ]
    },
    {
      "cell_type": "code",
      "metadata": {
        "id": "6-qpKmadfMPN"
      },
      "source": [
        "\n",
        "# INSERT CODE HERE\n",
        "\n",
        "\n"
      ],
      "execution_count": null,
      "outputs": []
    },
    {
      "cell_type": "markdown",
      "metadata": {
        "id": "v5RqEWzZKC_M"
      },
      "source": [
        "### Q8 - **shape**\n",
        "To see the size of the dataset, we can use the `shape` function, which returns the number of rows and columns in a format of (#rows, #columns)"
      ]
    },
    {
      "cell_type": "code",
      "metadata": {
        "id": "2Nv-Edc7KMiO"
      },
      "source": [
        "\n",
        "INSERT CODE HERE\n"
      ],
      "execution_count": null,
      "outputs": []
    },
    {
      "cell_type": "markdown",
      "metadata": {
        "id": "z_6FGAbaRP00"
      },
      "source": [
        "# Part 2 - Basic Data Manipulation"
      ]
    },
    {
      "cell_type": "markdown",
      "metadata": {
        "id": "iyxTvY8ugKmy"
      },
      "source": [
        "### Q9 - Drop `NaN` or `null` values\n",
        "The `dropna()` method is designed to drop every value in our dataframe whose cell might have a null or undefined value. They are usually shown as `NaN`. \n",
        "Use this method to remove all null values."
      ]
    },
    {
      "cell_type": "code",
      "metadata": {
        "id": "HZ-e4ma0gKFC"
      },
      "source": [
        "\n",
        "# INSERT CODE HERE\n"
      ],
      "execution_count": null,
      "outputs": []
    },
    {
      "cell_type": "markdown",
      "metadata": {
        "id": "xmxOdFQ4N3ky"
      },
      "source": [
        "In this dataset, we only want to consider certain relevant data. We can disregard data that we don't need for today.\n",
        "\n",
        "Using the `drop()` method, remove these columns:\n",
        "```\n",
        "- Improving nations education system\t\n",
        "- Solving problems of big cities\n",
        "```"
      ]
    },
    {
      "cell_type": "code",
      "metadata": {
        "id": "1Q4MjsovOVEC"
      },
      "source": [
        "\n",
        "# INSERT CODE HERE\n"
      ],
      "execution_count": null,
      "outputs": []
    },
    {
      "cell_type": "markdown",
      "metadata": {
        "id": "KlXX2uAffj-q"
      },
      "source": [
        "### Q10 - Checking Columns\n",
        "Let's check the columns that we have. We can use the built-in attribute `.columns` to view the names of the columns in our dataframe."
      ]
    },
    {
      "cell_type": "code",
      "metadata": {
        "id": "eCIM5aS7diJi"
      },
      "source": [
        "\n",
        "# INSERT CODE HERE\n"
      ],
      "execution_count": null,
      "outputs": []
    },
    {
      "cell_type": "markdown",
      "metadata": {
        "id": "RiHlE98fflof"
      },
      "source": [
        "## Checking unique values for every column\n",
        "There are various different values for each column. We can check the unique values for each column with the built-in method of `unique()`. We can get the number of unique values in a column by calling `nunique()`. \n",
        "\n",
        "Print out the unique values and number of unique values for the following attributes:\n",
        "- Respondent Year\n",
        "- Confidence in Supreme Court\n",
        "- Marital Status\n",
        "- Respondents' Race\n",
        "- Respondents' Sex\n",
        "- Respondents' Income\n",
        "- Ballot Used"
      ]
    },
    {
      "cell_type": "markdown",
      "metadata": {
        "id": "9M3ApRr7DG1h"
      },
      "source": [
        "### Q11 - `respondents_year`"
      ]
    },
    {
      "cell_type": "code",
      "metadata": {
        "id": "G12TPLri_eAb"
      },
      "source": [
        "\n",
        "# Unique values list\n",
        "print(df.___________________)  # INSERT CODE HERE\n",
        "# Number of unique\n",
        "print(df.___________________)  # INSERT CODE HERE\n"
      ],
      "execution_count": null,
      "outputs": []
    },
    {
      "cell_type": "markdown",
      "metadata": {
        "id": "NdvnImmAEETS"
      },
      "source": [
        "### Q12 - `confidence_in_supreme_court`"
      ]
    },
    {
      "cell_type": "code",
      "metadata": {
        "id": "l_lIdAd7djNv"
      },
      "source": [
        "\n",
        "# Unique values list\n",
        "print(df.___________________)  # INSERT CODE HERE\n",
        "# Number of unique\n",
        "print(df.___________________)  # INSERT CODE HERE\n"
      ],
      "execution_count": null,
      "outputs": []
    },
    {
      "cell_type": "markdown",
      "metadata": {
        "id": "5dcOvM4jEHSn"
      },
      "source": [
        "### Q13 - `marital_status`"
      ]
    },
    {
      "cell_type": "code",
      "metadata": {
        "id": "71tOJ-KbeR3r"
      },
      "source": [
        "\n",
        "# Unique values list\n",
        "print(df.___________________)  # INSERT CODE HERE\n",
        "# Number of unique\n",
        "print(df.___________________)  # INSERT CODE HERE\n"
      ],
      "execution_count": null,
      "outputs": []
    },
    {
      "cell_type": "markdown",
      "metadata": {
        "id": "8Tx8MgO0EKxu"
      },
      "source": [
        "### Q14 - `respondents_race`"
      ]
    },
    {
      "cell_type": "code",
      "metadata": {
        "id": "86qkOl7EeUCK"
      },
      "source": [
        "\n",
        "# Unique values list\n",
        "print(df.___________________)  # INSERT CODE HERE\n",
        "# Number of unique\n",
        "print(df.___________________)  # INSERT CODE HERE\n"
      ],
      "execution_count": null,
      "outputs": []
    },
    {
      "cell_type": "markdown",
      "metadata": {
        "id": "mfwwnMlYENSw"
      },
      "source": [
        "### Q15 - `respondents_sex`"
      ]
    },
    {
      "cell_type": "code",
      "metadata": {
        "id": "d5B2eaE5e1ab"
      },
      "source": [
        "\n",
        "# Unique values list\n",
        "print(df.___________________)  # INSERT CODE HERE\n",
        "# Number of unique\n",
        "print(df.___________________)  # INSERT CODE HERE\n"
      ],
      "execution_count": null,
      "outputs": []
    },
    {
      "cell_type": "markdown",
      "metadata": {
        "id": "BmzPP5PDEQd1"
      },
      "source": [
        "### Q16 - `respondents_income`"
      ]
    },
    {
      "cell_type": "code",
      "metadata": {
        "id": "hoJpohhQe5XH"
      },
      "source": [
        "\n",
        "# Unique values list\n",
        "print(df.___________________)  # INSERT CODE HERE\n",
        "# Number of unique\n",
        "print(df.___________________)  # INSERT CODE HERE\n"
      ],
      "execution_count": null,
      "outputs": []
    },
    {
      "cell_type": "markdown",
      "metadata": {
        "id": "jr7GeoO1S3lV"
      },
      "source": [
        "### Q17 - `ballot_used`"
      ]
    },
    {
      "cell_type": "code",
      "metadata": {
        "id": "ZkoVexvve8UF"
      },
      "source": [
        "\n",
        "# Unique values list\n",
        "print(df.___________________)  # INSERT CODE HERE\n",
        "# Number of unique\n",
        "print(df.___________________)  # INSERT CODE HERE\n"
      ],
      "execution_count": null,
      "outputs": []
    },
    {
      "cell_type": "markdown",
      "metadata": {
        "id": "V5LAnx98L8Ls"
      },
      "source": [
        "*****Questions:*****\n",
        "- What were the values for confidence levels in supreme court? Is this a good scale to measure by?\n",
        "- What are the ranges of income that were surveyed?\n",
        "- How many different types of ballot were cast?"
      ]
    },
    {
      "cell_type": "markdown",
      "metadata": {
        "id": "xG7k61TNRix_"
      },
      "source": [
        "## Organizing Values\n",
        "\n",
        "For basic data visualizations it is difficult to work with categorical data, therefore for this part we will convert three categorical columns\n",
        "- `respondents_income`\n",
        "- `total_family_income`\n",
        "- `ballot_used`\n",
        "\n",
        "\n",
        "**You don't have to write the code yourself, simply observe the code below and run it.**\n"
      ]
    },
    {
      "cell_type": "code",
      "metadata": {
        "id": "ouPn6FggR3zy"
      },
      "source": [
        "# Do not Modify, Only run the following lines of code\n",
        "\n",
        "\n",
        "df['respondents_income']= df['respondents_income'].replace({'Not applicable': 0})\n",
        "df['respondents_income']= df['respondents_income'].replace({'Refused': 0})\n",
        "df['respondents_income']= df['respondents_income'].replace({'Don\\'t know': 0})\n",
        "df['respondents_income']= df['respondents_income'].replace({'No answer': 0})\n",
        "df['respondents_income']= df['respondents_income'].replace({'Lt $1000': 1000})\n",
        "df['respondents_income']= df['respondents_income'].replace({'$1000 to 2999': 2999})\n",
        "df['respondents_income']= df['respondents_income'].replace({'$3000 to 3999': 3999})\n",
        "df['respondents_income']= df['respondents_income'].replace({'$4000 to 4999': 4999})\n",
        "df['respondents_income']= df['respondents_income'].replace({'$5000 to 5999': 5999})\n",
        "df['respondents_income']= df['respondents_income'].replace({'$6000 to 6999': 6999})\n",
        "df['respondents_income']= df['respondents_income'].replace({'$7000 to 7999': 7999})\n",
        "df['respondents_income']= df['respondents_income'].replace({'$8000 to 9999': 9999})\n",
        "df['respondents_income']= df['respondents_income'].replace({'$10000 - 14999': 14999})\n",
        "df['respondents_income']= df['respondents_income'].replace({'$15000 - 19999': 19999})\n",
        "df['respondents_income']= df['respondents_income'].replace({'$20000 - 24999': 24999})\n",
        "df['respondents_income']= df['respondents_income'].replace({'$25000 or more': 25999})\n",
        "\n",
        "df['total_family_income']= df['total_family_income'].replace({'Not applicable': 0})\n",
        "df['total_family_income']= df['total_family_income'].replace({'Refused':0 })\n",
        "df['total_family_income']= df['total_family_income'].replace({'Don\\'t know': 0})\n",
        "df['total_family_income']= df['total_family_income'].replace({'No answer': 0})\n",
        "df['total_family_income']= df['total_family_income'].replace({'Lt $1000': 1000})\n",
        "df['total_family_income']= df['total_family_income'].replace({'$1000 to 2999': 2999})\n",
        "df['total_family_income']= df['total_family_income'].replace({'$3000 to 3999': 3999})\n",
        "df['total_family_income']= df['total_family_income'].replace({'$4000 to 4999': 4999})\n",
        "df['total_family_income']= df['total_family_income'].replace({'$5000 to 5999': 5999})\n",
        "df['total_family_income']= df['total_family_income'].replace({'$6000 to 6999': 6999})\n",
        "df['total_family_income']= df['total_family_income'].replace({'$7000 to 7999': 7999})\n",
        "df['total_family_income']= df['total_family_income'].replace({'$8000 to 9999': 9999})\n",
        "df['total_family_income']= df['total_family_income'].replace({'$10000 - 14999': 14999})\n",
        "df['total_family_income']= df['total_family_income'].replace({'$15000 - 19999': 19999})\n",
        "df['total_family_income']= df['total_family_income'].replace({'$20000 - 24999': 24999})\n",
        "df['total_family_income']= df['total_family_income'].replace({'$25000 or more': 25999})\n",
        "\n",
        "df['ballot_used']= df['ballot_used'].replace({'Not applicable': 0})\n",
        "df['ballot_used']= df['ballot_used'].replace({'Ballot a': 1})\n",
        "df['ballot_used']= df['ballot_used'].replace({'Ballot b': 2})\n",
        "df['ballot_used']= df['ballot_used'].replace({'Ballot c': 3})\n",
        "df['ballot_used']= df['ballot_used'].replace({'Ballot d': 4})\n"
      ],
      "execution_count": null,
      "outputs": []
    },
    {
      "cell_type": "code",
      "metadata": {
        "id": "eKe-7f44FkF0"
      },
      "source": [
        "df"
      ],
      "execution_count": null,
      "outputs": []
    },
    {
      "cell_type": "markdown",
      "metadata": {
        "id": "Ajaux19TShEH"
      },
      "source": [
        "Notice that we have a column for respondent ID number. We also have an index for the entire dataset. Use the pandas built-in features to  replace the respondent ID number column as the table index."
      ]
    },
    {
      "cell_type": "code",
      "metadata": {
        "id": "ms9zHwxuSy7e"
      },
      "source": [
        "\n",
        "# INSERT CODE HERE\n"
      ],
      "execution_count": null,
      "outputs": []
    },
    {
      "cell_type": "markdown",
      "metadata": {
        "id": "sNyp00jUgglT"
      },
      "source": [
        "## Step 3 - Basic Plots\n",
        "Recall that we learned about the tools to plot data. Let's review some of them now.\n"
      ]
    },
    {
      "cell_type": "markdown",
      "metadata": {
        "id": "q6wcREwCXh9J"
      },
      "source": [
        "kind : `str`\n",
        "\n",
        "        ‘line’ : line plot (default)\n",
        "        ‘bar’ : vertical bar plot\n",
        "        ‘barh’ : horizontal bar plot\n",
        "        ‘hist’ : histogram\n",
        "        ‘box’ : boxplot\n",
        "        ‘kde’ : Kernel Density Estimation plot\n",
        "        ‘density’ : same as ‘kde’\n",
        "        ‘area’ : area plot\n",
        "        ‘pie’ : pie plot\n",
        "        ‘scatter’ : scatter plot\n",
        "        ‘hexbin’ : hexbin plot\n",
        "\n"
      ]
    },
    {
      "cell_type": "code",
      "metadata": {
        "id": "8zMFYGURAj4I"
      },
      "source": [
        "df['respondent_year'] =df['respondent_year'].astype(int) # Don't modify this"
      ],
      "execution_count": null,
      "outputs": []
    },
    {
      "cell_type": "markdown",
      "metadata": {
        "id": "-uxUOjcY_iZK"
      },
      "source": [
        "### Q18 - Plotting `respondent_year` frequency"
      ]
    },
    {
      "cell_type": "code",
      "metadata": {
        "id": "FyoYY0x8_sj-"
      },
      "source": [
        "'''\n",
        "INSERT CODE HERE\n",
        "'''\n",
        "\n",
        "df['respondent_year'].hist(bins=32)\n",
        "\n",
        "\n",
        "plt.show() # Students don't have to write this"
      ],
      "execution_count": null,
      "outputs": []
    },
    {
      "cell_type": "markdown",
      "metadata": {
        "id": "agv8J_OoMvvJ"
      },
      "source": [
        "### Q19 - Plotting frequency of `ballot_used`\n",
        "Let's take a look at the various ballots that were cast.\n",
        "Use `matplotlib` 's `hist()` feature to plot a histogram for the ballots used in this dataset."
      ]
    },
    {
      "cell_type": "code",
      "metadata": {
        "id": "b-GhOJYzheSr"
      },
      "source": [
        "\n",
        "df[________].hist(bins =4)  # INSERT CODE HERE"
      ],
      "execution_count": null,
      "outputs": []
    },
    {
      "cell_type": "markdown",
      "metadata": {
        "id": "v5by8WrLNCJ4"
      },
      "source": [
        "*****Questions:*****\n",
        "- What conclusions can you form from this data?"
      ]
    },
    {
      "cell_type": "markdown",
      "metadata": {
        "id": "qTS0JmjDNVrT"
      },
      "source": [
        "### Q20 - Plotting Income Brackets\n",
        "This dataset features statistics about people from various income brackets.\n",
        "Use the plot of your choice to graphically represent the various income groups of respondents."
      ]
    },
    {
      "cell_type": "code",
      "metadata": {
        "id": "R2oprvuzE8JO"
      },
      "source": [
        "df[__________].____(bins =____________________)  # INSERT CODE HERE"
      ],
      "execution_count": null,
      "outputs": []
    },
    {
      "cell_type": "markdown",
      "metadata": {
        "id": "twfHfQdfNI5h"
      },
      "source": [
        "*****Questions:*****\n",
        "- What conclusions can you form from this data?"
      ]
    },
    {
      "cell_type": "markdown",
      "metadata": {
        "id": "YTs3axx8JnpN"
      },
      "source": [
        "## Observing the latest recorded year "
      ]
    },
    {
      "cell_type": "markdown",
      "metadata": {
        "id": "3PEd68MLRPtt"
      },
      "source": [
        "### Q21a - filter a dataframe that only has the maximum year recorded\n",
        "\n",
        "- You can use `.loc` for this.\n",
        "- Save it as `latest_year_df`"
      ]
    },
    {
      "cell_type": "code",
      "metadata": {
        "id": "XdofWO8WNHjw"
      },
      "source": [
        "\n",
        "# INSERT CODE HERE\n"
      ],
      "execution_count": null,
      "outputs": []
    },
    {
      "cell_type": "markdown",
      "metadata": {
        "id": "sgGufBKXRbRP"
      },
      "source": [
        "### Q21b - Plot the `respondents_race` for `latest_year_df`"
      ]
    },
    {
      "cell_type": "code",
      "metadata": {
        "id": "MG6rEySCJsgv"
      },
      "source": [
        "\n",
        "# INSERT CODE HERE\n"
      ],
      "execution_count": null,
      "outputs": []
    },
    {
      "cell_type": "markdown",
      "metadata": {
        "id": "i5E18d1dRiDR"
      },
      "source": [
        "### Q21c - Plot the `respondents_sex` for `latest_year_df`"
      ]
    },
    {
      "cell_type": "code",
      "metadata": {
        "id": "tpeCjBZUNubk"
      },
      "source": [
        "\n",
        "# INSERT CODE HERE\n"
      ],
      "execution_count": null,
      "outputs": []
    },
    {
      "cell_type": "markdown",
      "metadata": {
        "id": "ivBQ7BjfRmP3"
      },
      "source": [
        "### Q21d - Plot two histograms of `respondents_income` and `total_family_income` for `latest_year_df`"
      ]
    },
    {
      "cell_type": "code",
      "metadata": {
        "id": "xKrZknmDNJht"
      },
      "source": [
        "'''\n",
        "INSERT CODE HERE\n",
        "'''\n"
      ],
      "execution_count": null,
      "outputs": []
    },
    {
      "cell_type": "markdown",
      "metadata": {
        "id": "6DQxeitOM60X"
      },
      "source": [
        "## Observing a decade before the latest year."
      ]
    },
    {
      "cell_type": "markdown",
      "metadata": {
        "id": "Qxhq7ku5R2tP"
      },
      "source": [
        "### Q22a - filter a dataframe that shows the year 10 years before maximum year recorded\n",
        "\n",
        "- You can use `.loc` for this.\n",
        "- Save it as `decade_earlier_df`"
      ]
    },
    {
      "cell_type": "code",
      "metadata": {
        "id": "_k13vklUMyup"
      },
      "source": [
        "'''\n",
        "INSERT CODE HERE\n",
        "'''\n"
      ],
      "execution_count": null,
      "outputs": []
    },
    {
      "cell_type": "markdown",
      "metadata": {
        "id": "nFwgoPaFSCTL"
      },
      "source": [
        "### Q22b - Plot the `respondents_race` for `decade_earlier_df`"
      ]
    },
    {
      "cell_type": "code",
      "metadata": {
        "id": "A1ibm_CeKMbv"
      },
      "source": [
        "'''\n",
        "INSERT CODE HERE\n",
        "'''\n"
      ],
      "execution_count": null,
      "outputs": []
    },
    {
      "cell_type": "markdown",
      "metadata": {
        "id": "IhDzUDFvSMWC"
      },
      "source": [
        "### Q22c - Plot the `respondents_sex` for `decade_earlier_df`"
      ]
    },
    {
      "cell_type": "code",
      "metadata": {
        "id": "9RKcoT45NrC6"
      },
      "source": [
        "'''\n",
        "INSERT CODE HERE\n",
        "'''\n"
      ],
      "execution_count": null,
      "outputs": []
    },
    {
      "cell_type": "markdown",
      "metadata": {
        "id": "9dw9LTMbSTWj"
      },
      "source": [
        "### Q22d - Plot two histograms of `respondents_income` and `total_family_income` for `decade_earlier_df`"
      ]
    },
    {
      "cell_type": "code",
      "metadata": {
        "id": "XFrWZpcSPKXK"
      },
      "source": [
        "'''\n",
        "INSERT CODE HERE\n",
        "'''\n"
      ],
      "execution_count": null,
      "outputs": []
    },
    {
      "cell_type": "markdown",
      "metadata": {
        "id": "fJUhhASWQGT2"
      },
      "source": [
        "#Submission\n",
        "Run this code block to download your answers."
      ]
    },
    {
      "cell_type": "code",
      "metadata": {
        "id": "_H_ntnpZQ6_H"
      },
      "source": [
        "from google.colab import files\n",
        "!zip -r \"{student_id}.zip\" \"{student_id}\"\n",
        "files.download(f\"{student_id}.zip\")"
      ],
      "execution_count": null,
      "outputs": []
    }
  ]
}
