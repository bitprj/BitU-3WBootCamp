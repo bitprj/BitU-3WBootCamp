{
  "nbformat": 4,
  "nbformat_minor": 0,
  "metadata": {
    "colab": {
      "name": "Sac-State-Notebook.ipynb",
      "provenance": [],
      "collapsed_sections": [],
      "toc_visible": true,
      "include_colab_link": true
    },
    "kernelspec": {
      "name": "python3",
      "display_name": "Python 3"
    }
  },
  "cells": [
    {
      "cell_type": "markdown",
      "metadata": {
        "id": "view-in-github",
        "colab_type": "text"
      },
      "source": [
        "<a href=\"https://colab.research.google.com/github/bitprj/BitU-3WBootCamp/blob/main/Week_4/Sac_State_Notebook.ipynb\" target=\"_parent\"><img src=\"https://colab.research.google.com/assets/colab-badge.svg\" alt=\"Open In Colab\"/></a>"
      ]
    },
    {
      "cell_type": "markdown",
      "metadata": {
        "id": "f0_IggpYdWw4"
      },
      "source": [
        "# <div align=\"center\"> Module 4: Lab </div>"
      ]
    },
    {
      "cell_type": "markdown",
      "metadata": {
        "id": "qh5vBQaCdco9"
      },
      "source": [
        "# <div align=\"center\"> Experimental</div>"
      ]
    },
    {
      "cell_type": "markdown",
      "metadata": {
        "id": "pz50__8SQQK3"
      },
      "source": [
        "#Grading\n",
        "In order to work on the questions in this Practicum and submit them for grading, you'll need to run the code block below. It will ask for your student ID number and then create a folder that will house your answers for each question. At the very end of the notebook, there is a code section that will download this folder as a zip file to your computer. This zip file will be your final submission."
      ]
    },
    {
      "cell_type": "code",
      "metadata": {
        "id": "K8lrutzLQXVb"
      },
      "source": [
        "import os\n",
        "import shutil\n",
        "\n",
        "!rm -rf sample_data\n",
        "\n",
        "student_id = input('Please Enter your Student ID: ') # Enter Student ID.\n",
        "\n",
        "while len(student_id) != 9:\n",
        " student_id = int('Please Enter your Student ID: ')  \n",
        "  \n",
        "folder_location = f'{student_id}/Week_Six/Practicum'\n",
        "if not os.path.exists(folder_location):\n",
        "  os.makedirs(folder_location)\n",
        "  print('Successfully Created Directory, Lets get started')\n",
        "else:\n",
        "  print('Directory Already Exists')"
      ],
      "execution_count": null,
      "outputs": []
    },
    {
      "cell_type": "markdown",
      "metadata": {
        "id": "3c6LnG3QDzmB"
      },
      "source": [
        "## Part 1 - Basic Setup\n"
      ]
    },
    {
      "cell_type": "markdown",
      "metadata": {
        "id": "ukV8nQksHw7e"
      },
      "source": [
        "### Q1 - Load Libraries "
      ]
    },
    {
      "cell_type": "code",
      "metadata": {
        "id": "0niYQTRFiV0j"
      },
      "source": [
        "#Once your have verified your answer please uncomment the line below and run it, this will save your code \n",
        "#%%writefile -a {folder_location}/1.py\n",
        "#Please note that if you uncomment and run multiple times, the program will keep appending to the file.\n",
        "\n",
        "'''\n",
        "import _________________ as plt  # INSERT CODE HERE\n",
        "import ______ as pd  # INSERT CODE HERE\n",
        "'''\n",
        "import matplotlib.pyplot as plt\n",
        "import pandas as pd\n",
        "%matplotlib inline"
      ],
      "execution_count": 3,
      "outputs": []
    },
    {
      "cell_type": "markdown",
      "metadata": {
        "id": "KoVXOb_NDM9t"
      },
      "source": [
        "### Q2 - Load file to Dataframe"
      ]
    },
    {
      "cell_type": "code",
      "metadata": {
        "id": "KcbxdH0WiYDA"
      },
      "source": [
        "#Once your have verified your answer please uncomment the line below and run it, this will save your code \n",
        "#%%writefile -a {folder_location}/1.py\n",
        "#Please note that if you uncomment and run multiple times, the program will keep appending to the file.\n",
        "\n",
        "#df = pd.read_csv('/SAC_STATE_DATASET.csv')\n",
        "'''\n",
        "url = 'https://raw.githubusercontent.com/bitprj/BitU-3WBootCamp/main/Week_4/SAC_STATE_DATASET.csv'\n",
        "df = __.read_csv(___)  # INSERT CODE HERE\n",
        "'''\n",
        "\n",
        "url = 'https://raw.githubusercontent.com/bitprj/BitU-3WBootCamp/main/Week_4/SAC_STATE_DATASET.csv'\n",
        "df = pd.read_csv('https://raw.githubusercontent.com/bitprj/BitU-3WBootCamp/main/Week_4/SAC_STATE_DATASET.csv')"
      ],
      "execution_count": 4,
      "outputs": []
    },
    {
      "cell_type": "code",
      "metadata": {
        "id": "SlEOsX9NpuhB",
        "colab": {
          "base_uri": "https://localhost:8080/",
          "height": 650
        },
        "outputId": "f2f7c279-9978-4fa0-d50b-e13b86aa9ef7"
      },
      "source": [
        "df"
      ],
      "execution_count": 5,
      "outputs": [
        {
          "output_type": "execute_result",
          "data": {
            "text/html": [
              "<div>\n",
              "<style scoped>\n",
              "    .dataframe tbody tr th:only-of-type {\n",
              "        vertical-align: middle;\n",
              "    }\n",
              "\n",
              "    .dataframe tbody tr th {\n",
              "        vertical-align: top;\n",
              "    }\n",
              "\n",
              "    .dataframe thead th {\n",
              "        text-align: right;\n",
              "    }\n",
              "</style>\n",
              "<table border=\"1\" class=\"dataframe\">\n",
              "  <thead>\n",
              "    <tr style=\"text-align: right;\">\n",
              "      <th></th>\n",
              "      <th>Gss year for this respondent</th>\n",
              "      <th>Confid. in united states supreme court</th>\n",
              "      <th>City or place r lives in</th>\n",
              "      <th>Improving nations education system</th>\n",
              "      <th>Solving problems of big cities</th>\n",
              "      <th>Respondents income</th>\n",
              "      <th>Total family income</th>\n",
              "      <th>Race of respondent</th>\n",
              "      <th>Respondents sex</th>\n",
              "      <th>Marital status</th>\n",
              "      <th>Respondent id number</th>\n",
              "      <th>Ballot used for interview</th>\n",
              "    </tr>\n",
              "  </thead>\n",
              "  <tbody>\n",
              "    <tr>\n",
              "      <th>0</th>\n",
              "      <td>1972</td>\n",
              "      <td>Not applicable</td>\n",
              "      <td>Not applicable</td>\n",
              "      <td>Not applicable</td>\n",
              "      <td>Not applicable</td>\n",
              "      <td>Not applicable</td>\n",
              "      <td>Not applicable</td>\n",
              "      <td>White</td>\n",
              "      <td>Female</td>\n",
              "      <td>Never married</td>\n",
              "      <td>1.0</td>\n",
              "      <td>Not applicable</td>\n",
              "    </tr>\n",
              "    <tr>\n",
              "      <th>1</th>\n",
              "      <td>1972</td>\n",
              "      <td>Not applicable</td>\n",
              "      <td>Not applicable</td>\n",
              "      <td>Not applicable</td>\n",
              "      <td>Not applicable</td>\n",
              "      <td>Not applicable</td>\n",
              "      <td>Not applicable</td>\n",
              "      <td>White</td>\n",
              "      <td>Male</td>\n",
              "      <td>Married</td>\n",
              "      <td>2.0</td>\n",
              "      <td>Not applicable</td>\n",
              "    </tr>\n",
              "    <tr>\n",
              "      <th>2</th>\n",
              "      <td>1972</td>\n",
              "      <td>Not applicable</td>\n",
              "      <td>Not applicable</td>\n",
              "      <td>Not applicable</td>\n",
              "      <td>Not applicable</td>\n",
              "      <td>Not applicable</td>\n",
              "      <td>Not applicable</td>\n",
              "      <td>White</td>\n",
              "      <td>Female</td>\n",
              "      <td>Married</td>\n",
              "      <td>3.0</td>\n",
              "      <td>Not applicable</td>\n",
              "    </tr>\n",
              "    <tr>\n",
              "      <th>3</th>\n",
              "      <td>1972</td>\n",
              "      <td>Not applicable</td>\n",
              "      <td>Not applicable</td>\n",
              "      <td>Not applicable</td>\n",
              "      <td>Not applicable</td>\n",
              "      <td>Not applicable</td>\n",
              "      <td>Not applicable</td>\n",
              "      <td>White</td>\n",
              "      <td>Female</td>\n",
              "      <td>Married</td>\n",
              "      <td>4.0</td>\n",
              "      <td>Not applicable</td>\n",
              "    </tr>\n",
              "    <tr>\n",
              "      <th>4</th>\n",
              "      <td>1972</td>\n",
              "      <td>Not applicable</td>\n",
              "      <td>Not applicable</td>\n",
              "      <td>Not applicable</td>\n",
              "      <td>Not applicable</td>\n",
              "      <td>Not applicable</td>\n",
              "      <td>Not applicable</td>\n",
              "      <td>White</td>\n",
              "      <td>Female</td>\n",
              "      <td>Married</td>\n",
              "      <td>5.0</td>\n",
              "      <td>Not applicable</td>\n",
              "    </tr>\n",
              "    <tr>\n",
              "      <th>...</th>\n",
              "      <td>...</td>\n",
              "      <td>...</td>\n",
              "      <td>...</td>\n",
              "      <td>...</td>\n",
              "      <td>...</td>\n",
              "      <td>...</td>\n",
              "      <td>...</td>\n",
              "      <td>...</td>\n",
              "      <td>...</td>\n",
              "      <td>...</td>\n",
              "      <td>...</td>\n",
              "      <td>...</td>\n",
              "    </tr>\n",
              "    <tr>\n",
              "      <th>64811</th>\n",
              "      <td>2018</td>\n",
              "      <td>Only some</td>\n",
              "      <td>Not applicable</td>\n",
              "      <td>Not applicable</td>\n",
              "      <td>Not applicable</td>\n",
              "      <td>$3000 to 3999</td>\n",
              "      <td>$25000 or more</td>\n",
              "      <td>White</td>\n",
              "      <td>Female</td>\n",
              "      <td>Married</td>\n",
              "      <td>2346.0</td>\n",
              "      <td>Ballot c</td>\n",
              "    </tr>\n",
              "    <tr>\n",
              "      <th>64812</th>\n",
              "      <td>2018</td>\n",
              "      <td>A great deal</td>\n",
              "      <td>Not applicable</td>\n",
              "      <td>About right</td>\n",
              "      <td>About right</td>\n",
              "      <td>Not applicable</td>\n",
              "      <td>$25000 or more</td>\n",
              "      <td>White</td>\n",
              "      <td>Male</td>\n",
              "      <td>Married</td>\n",
              "      <td>2347.0</td>\n",
              "      <td>Ballot b</td>\n",
              "    </tr>\n",
              "    <tr>\n",
              "      <th>64813</th>\n",
              "      <td>2018</td>\n",
              "      <td>Not applicable</td>\n",
              "      <td>Not applicable</td>\n",
              "      <td>Not applicable</td>\n",
              "      <td>Not applicable</td>\n",
              "      <td>Not applicable</td>\n",
              "      <td>Refused</td>\n",
              "      <td>White</td>\n",
              "      <td>Female</td>\n",
              "      <td>Widowed</td>\n",
              "      <td>2348.0</td>\n",
              "      <td>Ballot a</td>\n",
              "    </tr>\n",
              "    <tr>\n",
              "      <th>64814</th>\n",
              "      <td>NaN</td>\n",
              "      <td>NaN</td>\n",
              "      <td>NaN</td>\n",
              "      <td>NaN</td>\n",
              "      <td>NaN</td>\n",
              "      <td>NaN</td>\n",
              "      <td>NaN</td>\n",
              "      <td>NaN</td>\n",
              "      <td>NaN</td>\n",
              "      <td>NaN</td>\n",
              "      <td>NaN</td>\n",
              "      <td>NaN</td>\n",
              "    </tr>\n",
              "    <tr>\n",
              "      <th>64815</th>\n",
              "      <td>Source</td>\n",
              "      <td>Data collection: General Social Survey\\nCase S...</td>\n",
              "      <td>NaN</td>\n",
              "      <td>NaN</td>\n",
              "      <td>NaN</td>\n",
              "      <td>NaN</td>\n",
              "      <td>NaN</td>\n",
              "      <td>NaN</td>\n",
              "      <td>NaN</td>\n",
              "      <td>NaN</td>\n",
              "      <td>NaN</td>\n",
              "      <td>NaN</td>\n",
              "    </tr>\n",
              "  </tbody>\n",
              "</table>\n",
              "<p>64816 rows × 12 columns</p>\n",
              "</div>"
            ],
            "text/plain": [
              "      Gss year for this respondent                         ... Ballot used for interview\n",
              "0                                                   1972   ...            Not applicable\n",
              "1                                                   1972   ...            Not applicable\n",
              "2                                                   1972   ...            Not applicable\n",
              "3                                                   1972   ...            Not applicable\n",
              "4                                                   1972   ...            Not applicable\n",
              "...                                                  ...   ...                       ...\n",
              "64811                                               2018   ...                  Ballot c\n",
              "64812                                               2018   ...                  Ballot b\n",
              "64813                                               2018   ...                  Ballot a\n",
              "64814                                                NaN   ...                       NaN\n",
              "64815                                             Source   ...                       NaN\n",
              "\n",
              "[64816 rows x 12 columns]"
            ]
          },
          "metadata": {
            "tags": []
          },
          "execution_count": 5
        }
      ]
    },
    {
      "cell_type": "markdown",
      "metadata": {
        "id": "sRSsaxb9DSdb"
      },
      "source": [
        "### Q3 - Renaming Columns"
      ]
    },
    {
      "cell_type": "code",
      "metadata": {
        "id": "aHlVT7B-c4Iv"
      },
      "source": [
        "'''\n",
        "df = df.rename(columns = {\n",
        "    'INSERT_COLUMN_NAME': 'respondent_year',\n",
        "    'INSERT_COLUMN_NAME' : 'confidence_in_supreme_court',\n",
        "    'INSERT_COLUMN_NAME' : 'city_of_residence',\n",
        "    'INSERT_COLUMN_NAME' : 'improving_national_reducation_system',\n",
        "    'INSERT_COLUMN_NAME' : 'solving_big_city_problems',\n",
        "    'INSERT_COLUMN_NAME' : 'respondents_income',\n",
        "    'INSERT_COLUMN_NAME' : 'total_family_income',\n",
        "    'INSERT_COLUMN_NAME' : 'respondents_race',\n",
        "    'INSERT_COLUMN_NAME' : 'respondents_sex',\n",
        "    \"INSERT_COLUMN_NAME\" : 'marital_status',\n",
        "    \"INSERT_COLUMN_NAME\": 'respondents_id_num' ,\n",
        "    \"INSERT_COLUMN_NAME\" : \"ballot_used\"\n",
        "})\n",
        "\n",
        "'''\n",
        "\n",
        "\n",
        "\n",
        "\n",
        "df = df.rename(columns = {\n",
        "    'Gss year for this respondent                       ': 'respondent_year',\n",
        "    'Confid. in united states supreme court' : 'confidence_in_supreme_court',\n",
        "    'City or place r lives in' : 'city_of_residence',\n",
        "    'Improving nations education system' : 'improving_national_reducation_system',\n",
        "    'Solving problems of big cities' : 'solving_big_city_problems',\n",
        "    'Respondents income' : 'respondents_income',\n",
        "    'Total family income' : 'total_family_income',\n",
        "    'Race of respondent' : 'respondents_race',\n",
        "    'Respondents sex' : 'respondents_sex',\n",
        "    \"Marital status\" : 'marital_status',\n",
        "    \"Respondent id number\": 'respondents_id_num' ,\n",
        "    \t\"Ballot used for interview\" : \"ballot_used\"\n",
        "})\n"
      ],
      "execution_count": 6,
      "outputs": []
    },
    {
      "cell_type": "markdown",
      "metadata": {
        "id": "HgjmUo3AH7Xz"
      },
      "source": [
        "### **Observing the Dataset Using Pandas**\n",
        "Now, the dataset is loaded as a dataframe `df`."
      ]
    },
    {
      "cell_type": "markdown",
      "metadata": {
        "id": "kKnjvrtBIBqx"
      },
      "source": [
        "### Q4 - **head()**\n",
        "Let's check what columns this file has by calling `head()` function. It returns first n rows, and it's useful to see the dataset at a quick glance.\n",
        "\n",
        "By default, the head() function returns the first 5 rows.\n",
        "\n",
        "You can specify the number of rows to display by calling df.head(number)"
      ]
    },
    {
      "cell_type": "code",
      "metadata": {
        "id": "7G6i6H1efIdk",
        "colab": {
          "base_uri": "https://localhost:8080/",
          "height": 313
        },
        "outputId": "40c1546e-bc28-4759-e726-dc005b34b02c"
      },
      "source": [
        "'''\n",
        "# INSERT CODE HERE\n",
        "'''\n",
        "df.head()\n"
      ],
      "execution_count": 7,
      "outputs": [
        {
          "output_type": "execute_result",
          "data": {
            "text/html": [
              "<div>\n",
              "<style scoped>\n",
              "    .dataframe tbody tr th:only-of-type {\n",
              "        vertical-align: middle;\n",
              "    }\n",
              "\n",
              "    .dataframe tbody tr th {\n",
              "        vertical-align: top;\n",
              "    }\n",
              "\n",
              "    .dataframe thead th {\n",
              "        text-align: right;\n",
              "    }\n",
              "</style>\n",
              "<table border=\"1\" class=\"dataframe\">\n",
              "  <thead>\n",
              "    <tr style=\"text-align: right;\">\n",
              "      <th></th>\n",
              "      <th>respondent_year</th>\n",
              "      <th>confidence_in_supreme_court</th>\n",
              "      <th>city_of_residence</th>\n",
              "      <th>improving_national_reducation_system</th>\n",
              "      <th>solving_big_city_problems</th>\n",
              "      <th>respondents_income</th>\n",
              "      <th>total_family_income</th>\n",
              "      <th>respondents_race</th>\n",
              "      <th>respondents_sex</th>\n",
              "      <th>marital_status</th>\n",
              "      <th>respondents_id_num</th>\n",
              "      <th>ballot_used</th>\n",
              "    </tr>\n",
              "  </thead>\n",
              "  <tbody>\n",
              "    <tr>\n",
              "      <th>0</th>\n",
              "      <td>1972</td>\n",
              "      <td>Not applicable</td>\n",
              "      <td>Not applicable</td>\n",
              "      <td>Not applicable</td>\n",
              "      <td>Not applicable</td>\n",
              "      <td>Not applicable</td>\n",
              "      <td>Not applicable</td>\n",
              "      <td>White</td>\n",
              "      <td>Female</td>\n",
              "      <td>Never married</td>\n",
              "      <td>1.0</td>\n",
              "      <td>Not applicable</td>\n",
              "    </tr>\n",
              "    <tr>\n",
              "      <th>1</th>\n",
              "      <td>1972</td>\n",
              "      <td>Not applicable</td>\n",
              "      <td>Not applicable</td>\n",
              "      <td>Not applicable</td>\n",
              "      <td>Not applicable</td>\n",
              "      <td>Not applicable</td>\n",
              "      <td>Not applicable</td>\n",
              "      <td>White</td>\n",
              "      <td>Male</td>\n",
              "      <td>Married</td>\n",
              "      <td>2.0</td>\n",
              "      <td>Not applicable</td>\n",
              "    </tr>\n",
              "    <tr>\n",
              "      <th>2</th>\n",
              "      <td>1972</td>\n",
              "      <td>Not applicable</td>\n",
              "      <td>Not applicable</td>\n",
              "      <td>Not applicable</td>\n",
              "      <td>Not applicable</td>\n",
              "      <td>Not applicable</td>\n",
              "      <td>Not applicable</td>\n",
              "      <td>White</td>\n",
              "      <td>Female</td>\n",
              "      <td>Married</td>\n",
              "      <td>3.0</td>\n",
              "      <td>Not applicable</td>\n",
              "    </tr>\n",
              "    <tr>\n",
              "      <th>3</th>\n",
              "      <td>1972</td>\n",
              "      <td>Not applicable</td>\n",
              "      <td>Not applicable</td>\n",
              "      <td>Not applicable</td>\n",
              "      <td>Not applicable</td>\n",
              "      <td>Not applicable</td>\n",
              "      <td>Not applicable</td>\n",
              "      <td>White</td>\n",
              "      <td>Female</td>\n",
              "      <td>Married</td>\n",
              "      <td>4.0</td>\n",
              "      <td>Not applicable</td>\n",
              "    </tr>\n",
              "    <tr>\n",
              "      <th>4</th>\n",
              "      <td>1972</td>\n",
              "      <td>Not applicable</td>\n",
              "      <td>Not applicable</td>\n",
              "      <td>Not applicable</td>\n",
              "      <td>Not applicable</td>\n",
              "      <td>Not applicable</td>\n",
              "      <td>Not applicable</td>\n",
              "      <td>White</td>\n",
              "      <td>Female</td>\n",
              "      <td>Married</td>\n",
              "      <td>5.0</td>\n",
              "      <td>Not applicable</td>\n",
              "    </tr>\n",
              "  </tbody>\n",
              "</table>\n",
              "</div>"
            ],
            "text/plain": [
              "  respondent_year  ...     ballot_used\n",
              "0            1972  ...  Not applicable\n",
              "1            1972  ...  Not applicable\n",
              "2            1972  ...  Not applicable\n",
              "3            1972  ...  Not applicable\n",
              "4            1972  ...  Not applicable\n",
              "\n",
              "[5 rows x 12 columns]"
            ]
          },
          "metadata": {
            "tags": []
          },
          "execution_count": 7
        }
      ]
    },
    {
      "cell_type": "markdown",
      "metadata": {
        "id": "6mE5p-aaIVDm"
      },
      "source": [
        "### Q5 - **tail()**\n",
        "The `tail()` method prints the last 5 rows of our dataset."
      ]
    },
    {
      "cell_type": "code",
      "metadata": {
        "id": "jjf8KASjfJY3",
        "colab": {
          "base_uri": "https://localhost:8080/",
          "height": 244
        },
        "outputId": "dba4fd2a-e891-4541-f186-009e6ea5eacf"
      },
      "source": [
        "'''\n",
        "# INSERT CODE HERE\n",
        "'''\n",
        "df.tail()\n",
        "\n"
      ],
      "execution_count": 8,
      "outputs": [
        {
          "output_type": "execute_result",
          "data": {
            "text/html": [
              "<div>\n",
              "<style scoped>\n",
              "    .dataframe tbody tr th:only-of-type {\n",
              "        vertical-align: middle;\n",
              "    }\n",
              "\n",
              "    .dataframe tbody tr th {\n",
              "        vertical-align: top;\n",
              "    }\n",
              "\n",
              "    .dataframe thead th {\n",
              "        text-align: right;\n",
              "    }\n",
              "</style>\n",
              "<table border=\"1\" class=\"dataframe\">\n",
              "  <thead>\n",
              "    <tr style=\"text-align: right;\">\n",
              "      <th></th>\n",
              "      <th>respondent_year</th>\n",
              "      <th>confidence_in_supreme_court</th>\n",
              "      <th>city_of_residence</th>\n",
              "      <th>improving_national_reducation_system</th>\n",
              "      <th>solving_big_city_problems</th>\n",
              "      <th>respondents_income</th>\n",
              "      <th>total_family_income</th>\n",
              "      <th>respondents_race</th>\n",
              "      <th>respondents_sex</th>\n",
              "      <th>marital_status</th>\n",
              "      <th>respondents_id_num</th>\n",
              "      <th>ballot_used</th>\n",
              "    </tr>\n",
              "  </thead>\n",
              "  <tbody>\n",
              "    <tr>\n",
              "      <th>64811</th>\n",
              "      <td>2018</td>\n",
              "      <td>Only some</td>\n",
              "      <td>Not applicable</td>\n",
              "      <td>Not applicable</td>\n",
              "      <td>Not applicable</td>\n",
              "      <td>$3000 to 3999</td>\n",
              "      <td>$25000 or more</td>\n",
              "      <td>White</td>\n",
              "      <td>Female</td>\n",
              "      <td>Married</td>\n",
              "      <td>2346.0</td>\n",
              "      <td>Ballot c</td>\n",
              "    </tr>\n",
              "    <tr>\n",
              "      <th>64812</th>\n",
              "      <td>2018</td>\n",
              "      <td>A great deal</td>\n",
              "      <td>Not applicable</td>\n",
              "      <td>About right</td>\n",
              "      <td>About right</td>\n",
              "      <td>Not applicable</td>\n",
              "      <td>$25000 or more</td>\n",
              "      <td>White</td>\n",
              "      <td>Male</td>\n",
              "      <td>Married</td>\n",
              "      <td>2347.0</td>\n",
              "      <td>Ballot b</td>\n",
              "    </tr>\n",
              "    <tr>\n",
              "      <th>64813</th>\n",
              "      <td>2018</td>\n",
              "      <td>Not applicable</td>\n",
              "      <td>Not applicable</td>\n",
              "      <td>Not applicable</td>\n",
              "      <td>Not applicable</td>\n",
              "      <td>Not applicable</td>\n",
              "      <td>Refused</td>\n",
              "      <td>White</td>\n",
              "      <td>Female</td>\n",
              "      <td>Widowed</td>\n",
              "      <td>2348.0</td>\n",
              "      <td>Ballot a</td>\n",
              "    </tr>\n",
              "    <tr>\n",
              "      <th>64814</th>\n",
              "      <td>NaN</td>\n",
              "      <td>NaN</td>\n",
              "      <td>NaN</td>\n",
              "      <td>NaN</td>\n",
              "      <td>NaN</td>\n",
              "      <td>NaN</td>\n",
              "      <td>NaN</td>\n",
              "      <td>NaN</td>\n",
              "      <td>NaN</td>\n",
              "      <td>NaN</td>\n",
              "      <td>NaN</td>\n",
              "      <td>NaN</td>\n",
              "    </tr>\n",
              "    <tr>\n",
              "      <th>64815</th>\n",
              "      <td>Source</td>\n",
              "      <td>Data collection: General Social Survey\\nCase S...</td>\n",
              "      <td>NaN</td>\n",
              "      <td>NaN</td>\n",
              "      <td>NaN</td>\n",
              "      <td>NaN</td>\n",
              "      <td>NaN</td>\n",
              "      <td>NaN</td>\n",
              "      <td>NaN</td>\n",
              "      <td>NaN</td>\n",
              "      <td>NaN</td>\n",
              "      <td>NaN</td>\n",
              "    </tr>\n",
              "  </tbody>\n",
              "</table>\n",
              "</div>"
            ],
            "text/plain": [
              "      respondent_year  ... ballot_used\n",
              "64811            2018  ...    Ballot c\n",
              "64812            2018  ...    Ballot b\n",
              "64813            2018  ...    Ballot a\n",
              "64814             NaN  ...         NaN\n",
              "64815          Source  ...         NaN\n",
              "\n",
              "[5 rows x 12 columns]"
            ]
          },
          "metadata": {
            "tags": []
          },
          "execution_count": 8
        }
      ]
    },
    {
      "cell_type": "markdown",
      "metadata": {
        "id": "Cc9xu4stIecZ"
      },
      "source": [
        "### Q6 - **info()**\n",
        "This will return all of the column  names and its types. This function is useful to get the idea of what the dataframe is like."
      ]
    },
    {
      "cell_type": "code",
      "metadata": {
        "id": "XkeNDCRrfN6e",
        "colab": {
          "base_uri": "https://localhost:8080/"
        },
        "outputId": "2dd14569-cf34-4274-8d4b-6126b6a9e9ed"
      },
      "source": [
        "'''\n",
        "# INSERT CODE HERE\n",
        "'''\n",
        "df.info()"
      ],
      "execution_count": 9,
      "outputs": [
        {
          "output_type": "stream",
          "text": [
            "<class 'pandas.core.frame.DataFrame'>\n",
            "RangeIndex: 64816 entries, 0 to 64815\n",
            "Data columns (total 12 columns):\n",
            " #   Column                                Non-Null Count  Dtype  \n",
            "---  ------                                --------------  -----  \n",
            " 0   respondent_year                       64815 non-null  object \n",
            " 1   confidence_in_supreme_court           64815 non-null  object \n",
            " 2   city_of_residence                     64814 non-null  object \n",
            " 3   improving_national_reducation_system  64814 non-null  object \n",
            " 4   solving_big_city_problems             64814 non-null  object \n",
            " 5   respondents_income                    64814 non-null  object \n",
            " 6   total_family_income                   64814 non-null  object \n",
            " 7   respondents_race                      64814 non-null  object \n",
            " 8   respondents_sex                       64814 non-null  object \n",
            " 9   marital_status                        64814 non-null  object \n",
            " 10  respondents_id_num                    64814 non-null  float64\n",
            " 11  ballot_used                           64814 non-null  object \n",
            "dtypes: float64(1), object(11)\n",
            "memory usage: 5.9+ MB\n"
          ],
          "name": "stdout"
        }
      ]
    },
    {
      "cell_type": "markdown",
      "metadata": {
        "id": "-bwydbMjJIaO"
      },
      "source": [
        "###**Observations**\n",
        "*****Questions:*****\n",
        "- List down the number of unique `Dtype` in this dataset\n",
        "- Is the datset uneven? If so list down the column with the most missing rows?"
      ]
    },
    {
      "cell_type": "markdown",
      "metadata": {
        "id": "PqSFXfcWfL77"
      },
      "source": [
        "### Q7 - **describe()**\n",
        "`describe()` is used to view summary statistics of numeric columns. This will help you to have a general idea of the dataset."
      ]
    },
    {
      "cell_type": "code",
      "metadata": {
        "id": "6-qpKmadfMPN",
        "colab": {
          "base_uri": "https://localhost:8080/",
          "height": 300
        },
        "outputId": "1c673bc0-0a61-4c55-9014-189474710f15"
      },
      "source": [
        "'''\n",
        "# INSERT CODE HERE\n",
        "'''\n",
        "df.describe()\n",
        "\n"
      ],
      "execution_count": 10,
      "outputs": [
        {
          "output_type": "execute_result",
          "data": {
            "text/html": [
              "<div>\n",
              "<style scoped>\n",
              "    .dataframe tbody tr th:only-of-type {\n",
              "        vertical-align: middle;\n",
              "    }\n",
              "\n",
              "    .dataframe tbody tr th {\n",
              "        vertical-align: top;\n",
              "    }\n",
              "\n",
              "    .dataframe thead th {\n",
              "        text-align: right;\n",
              "    }\n",
              "</style>\n",
              "<table border=\"1\" class=\"dataframe\">\n",
              "  <thead>\n",
              "    <tr style=\"text-align: right;\">\n",
              "      <th></th>\n",
              "      <th>respondents_id_num</th>\n",
              "    </tr>\n",
              "  </thead>\n",
              "  <tbody>\n",
              "    <tr>\n",
              "      <th>count</th>\n",
              "      <td>64814.000000</td>\n",
              "    </tr>\n",
              "    <tr>\n",
              "      <th>mean</th>\n",
              "      <td>1151.810211</td>\n",
              "    </tr>\n",
              "    <tr>\n",
              "      <th>std</th>\n",
              "      <td>828.030233</td>\n",
              "    </tr>\n",
              "    <tr>\n",
              "      <th>min</th>\n",
              "      <td>1.000000</td>\n",
              "    </tr>\n",
              "    <tr>\n",
              "      <th>25%</th>\n",
              "      <td>507.000000</td>\n",
              "    </tr>\n",
              "    <tr>\n",
              "      <th>50%</th>\n",
              "      <td>1029.500000</td>\n",
              "    </tr>\n",
              "    <tr>\n",
              "      <th>75%</th>\n",
              "      <td>1570.000000</td>\n",
              "    </tr>\n",
              "    <tr>\n",
              "      <th>max</th>\n",
              "      <td>4510.000000</td>\n",
              "    </tr>\n",
              "  </tbody>\n",
              "</table>\n",
              "</div>"
            ],
            "text/plain": [
              "       respondents_id_num\n",
              "count        64814.000000\n",
              "mean          1151.810211\n",
              "std            828.030233\n",
              "min              1.000000\n",
              "25%            507.000000\n",
              "50%           1029.500000\n",
              "75%           1570.000000\n",
              "max           4510.000000"
            ]
          },
          "metadata": {
            "tags": []
          },
          "execution_count": 10
        }
      ]
    },
    {
      "cell_type": "markdown",
      "metadata": {
        "id": "v5RqEWzZKC_M"
      },
      "source": [
        "### Q8 - **shape**\n",
        "To see the size of the dataset, we can use the `shape` function, which returns the number of rows and columns in a format of (#rows, #columns)"
      ]
    },
    {
      "cell_type": "code",
      "metadata": {
        "id": "2Nv-Edc7KMiO",
        "colab": {
          "base_uri": "https://localhost:8080/"
        },
        "outputId": "01b87a0e-9309-45ef-dce5-438d140b20f5"
      },
      "source": [
        "'''\n",
        "INSERT CODE HERE\n",
        "'''\n",
        "df.shape"
      ],
      "execution_count": 11,
      "outputs": [
        {
          "output_type": "execute_result",
          "data": {
            "text/plain": [
              "(64816, 12)"
            ]
          },
          "metadata": {
            "tags": []
          },
          "execution_count": 11
        }
      ]
    },
    {
      "cell_type": "markdown",
      "metadata": {
        "id": "z_6FGAbaRP00"
      },
      "source": [
        "# Part 2 - Basic Data Manipulation"
      ]
    },
    {
      "cell_type": "markdown",
      "metadata": {
        "id": "iyxTvY8ugKmy"
      },
      "source": [
        "### Q9 - Drop `NaN` or `null` values\n",
        "The `dropna()` method is designed to drop every value in our dataframe whose cell might have a null or undefined value. They are usually shown as `NaN`. \n",
        "Use this method to remove all null values."
      ]
    },
    {
      "cell_type": "code",
      "metadata": {
        "id": "HZ-e4ma0gKFC"
      },
      "source": [
        "'''\n",
        "# INSERT CODE HERE\n",
        "'''\n",
        "df = df.dropna()"
      ],
      "execution_count": 12,
      "outputs": []
    },
    {
      "cell_type": "markdown",
      "metadata": {
        "id": "xmxOdFQ4N3ky"
      },
      "source": [
        "In this dataset, we only want to consider certain relevant data. We can disregard data that we don't need for today.\n",
        "\n",
        "Using the `drop()` method, remove these columns:\n",
        "```\n",
        "- Improving nations education system\t\n",
        "- Solving problems of big cities\n",
        "```"
      ]
    },
    {
      "cell_type": "code",
      "metadata": {
        "id": "1Q4MjsovOVEC",
        "colab": {
          "base_uri": "https://localhost:8080/",
          "height": 531
        },
        "outputId": "1b214f2f-94cc-4c8e-d778-3462455f5429"
      },
      "source": [
        "'''\n",
        "# INSERT CODE HERE\n",
        "'''\n",
        "df = df.drop(columns=['improving_national_reducation_system','solving_big_city_problems'])\n",
        "df"
      ],
      "execution_count": 13,
      "outputs": [
        {
          "output_type": "execute_result",
          "data": {
            "text/html": [
              "<div>\n",
              "<style scoped>\n",
              "    .dataframe tbody tr th:only-of-type {\n",
              "        vertical-align: middle;\n",
              "    }\n",
              "\n",
              "    .dataframe tbody tr th {\n",
              "        vertical-align: top;\n",
              "    }\n",
              "\n",
              "    .dataframe thead th {\n",
              "        text-align: right;\n",
              "    }\n",
              "</style>\n",
              "<table border=\"1\" class=\"dataframe\">\n",
              "  <thead>\n",
              "    <tr style=\"text-align: right;\">\n",
              "      <th></th>\n",
              "      <th>respondent_year</th>\n",
              "      <th>confidence_in_supreme_court</th>\n",
              "      <th>city_of_residence</th>\n",
              "      <th>respondents_income</th>\n",
              "      <th>total_family_income</th>\n",
              "      <th>respondents_race</th>\n",
              "      <th>respondents_sex</th>\n",
              "      <th>marital_status</th>\n",
              "      <th>respondents_id_num</th>\n",
              "      <th>ballot_used</th>\n",
              "    </tr>\n",
              "  </thead>\n",
              "  <tbody>\n",
              "    <tr>\n",
              "      <th>0</th>\n",
              "      <td>1972</td>\n",
              "      <td>Not applicable</td>\n",
              "      <td>Not applicable</td>\n",
              "      <td>Not applicable</td>\n",
              "      <td>Not applicable</td>\n",
              "      <td>White</td>\n",
              "      <td>Female</td>\n",
              "      <td>Never married</td>\n",
              "      <td>1.0</td>\n",
              "      <td>Not applicable</td>\n",
              "    </tr>\n",
              "    <tr>\n",
              "      <th>1</th>\n",
              "      <td>1972</td>\n",
              "      <td>Not applicable</td>\n",
              "      <td>Not applicable</td>\n",
              "      <td>Not applicable</td>\n",
              "      <td>Not applicable</td>\n",
              "      <td>White</td>\n",
              "      <td>Male</td>\n",
              "      <td>Married</td>\n",
              "      <td>2.0</td>\n",
              "      <td>Not applicable</td>\n",
              "    </tr>\n",
              "    <tr>\n",
              "      <th>2</th>\n",
              "      <td>1972</td>\n",
              "      <td>Not applicable</td>\n",
              "      <td>Not applicable</td>\n",
              "      <td>Not applicable</td>\n",
              "      <td>Not applicable</td>\n",
              "      <td>White</td>\n",
              "      <td>Female</td>\n",
              "      <td>Married</td>\n",
              "      <td>3.0</td>\n",
              "      <td>Not applicable</td>\n",
              "    </tr>\n",
              "    <tr>\n",
              "      <th>3</th>\n",
              "      <td>1972</td>\n",
              "      <td>Not applicable</td>\n",
              "      <td>Not applicable</td>\n",
              "      <td>Not applicable</td>\n",
              "      <td>Not applicable</td>\n",
              "      <td>White</td>\n",
              "      <td>Female</td>\n",
              "      <td>Married</td>\n",
              "      <td>4.0</td>\n",
              "      <td>Not applicable</td>\n",
              "    </tr>\n",
              "    <tr>\n",
              "      <th>4</th>\n",
              "      <td>1972</td>\n",
              "      <td>Not applicable</td>\n",
              "      <td>Not applicable</td>\n",
              "      <td>Not applicable</td>\n",
              "      <td>Not applicable</td>\n",
              "      <td>White</td>\n",
              "      <td>Female</td>\n",
              "      <td>Married</td>\n",
              "      <td>5.0</td>\n",
              "      <td>Not applicable</td>\n",
              "    </tr>\n",
              "    <tr>\n",
              "      <th>...</th>\n",
              "      <td>...</td>\n",
              "      <td>...</td>\n",
              "      <td>...</td>\n",
              "      <td>...</td>\n",
              "      <td>...</td>\n",
              "      <td>...</td>\n",
              "      <td>...</td>\n",
              "      <td>...</td>\n",
              "      <td>...</td>\n",
              "      <td>...</td>\n",
              "    </tr>\n",
              "    <tr>\n",
              "      <th>64809</th>\n",
              "      <td>2018</td>\n",
              "      <td>Not applicable</td>\n",
              "      <td>Not applicable</td>\n",
              "      <td>Refused</td>\n",
              "      <td>Refused</td>\n",
              "      <td>White</td>\n",
              "      <td>Female</td>\n",
              "      <td>Divorced</td>\n",
              "      <td>2344.0</td>\n",
              "      <td>Ballot a</td>\n",
              "    </tr>\n",
              "    <tr>\n",
              "      <th>64810</th>\n",
              "      <td>2018</td>\n",
              "      <td>Not applicable</td>\n",
              "      <td>Not applicable</td>\n",
              "      <td>$15000 - 19999</td>\n",
              "      <td>$25000 or more</td>\n",
              "      <td>White</td>\n",
              "      <td>Female</td>\n",
              "      <td>Married</td>\n",
              "      <td>2345.0</td>\n",
              "      <td>Ballot a</td>\n",
              "    </tr>\n",
              "    <tr>\n",
              "      <th>64811</th>\n",
              "      <td>2018</td>\n",
              "      <td>Only some</td>\n",
              "      <td>Not applicable</td>\n",
              "      <td>$3000 to 3999</td>\n",
              "      <td>$25000 or more</td>\n",
              "      <td>White</td>\n",
              "      <td>Female</td>\n",
              "      <td>Married</td>\n",
              "      <td>2346.0</td>\n",
              "      <td>Ballot c</td>\n",
              "    </tr>\n",
              "    <tr>\n",
              "      <th>64812</th>\n",
              "      <td>2018</td>\n",
              "      <td>A great deal</td>\n",
              "      <td>Not applicable</td>\n",
              "      <td>Not applicable</td>\n",
              "      <td>$25000 or more</td>\n",
              "      <td>White</td>\n",
              "      <td>Male</td>\n",
              "      <td>Married</td>\n",
              "      <td>2347.0</td>\n",
              "      <td>Ballot b</td>\n",
              "    </tr>\n",
              "    <tr>\n",
              "      <th>64813</th>\n",
              "      <td>2018</td>\n",
              "      <td>Not applicable</td>\n",
              "      <td>Not applicable</td>\n",
              "      <td>Not applicable</td>\n",
              "      <td>Refused</td>\n",
              "      <td>White</td>\n",
              "      <td>Female</td>\n",
              "      <td>Widowed</td>\n",
              "      <td>2348.0</td>\n",
              "      <td>Ballot a</td>\n",
              "    </tr>\n",
              "  </tbody>\n",
              "</table>\n",
              "<p>64814 rows × 10 columns</p>\n",
              "</div>"
            ],
            "text/plain": [
              "      respondent_year  ...     ballot_used\n",
              "0                1972  ...  Not applicable\n",
              "1                1972  ...  Not applicable\n",
              "2                1972  ...  Not applicable\n",
              "3                1972  ...  Not applicable\n",
              "4                1972  ...  Not applicable\n",
              "...               ...  ...             ...\n",
              "64809            2018  ...        Ballot a\n",
              "64810            2018  ...        Ballot a\n",
              "64811            2018  ...        Ballot c\n",
              "64812            2018  ...        Ballot b\n",
              "64813            2018  ...        Ballot a\n",
              "\n",
              "[64814 rows x 10 columns]"
            ]
          },
          "metadata": {
            "tags": []
          },
          "execution_count": 13
        }
      ]
    },
    {
      "cell_type": "markdown",
      "metadata": {
        "id": "KlXX2uAffj-q"
      },
      "source": [
        "### Q10 - Checking Columns\n",
        "Let's check the columns that we have. We can use the built-in attribute `.columns` to view the names of the columns in our dataframe."
      ]
    },
    {
      "cell_type": "code",
      "metadata": {
        "id": "eCIM5aS7diJi",
        "colab": {
          "base_uri": "https://localhost:8080/"
        },
        "outputId": "68a0c19d-2e21-46d3-f1c4-442577d0ae92"
      },
      "source": [
        "'''\n",
        "# INSERT CODE HERE\n",
        "'''\n",
        "df.columns"
      ],
      "execution_count": 14,
      "outputs": [
        {
          "output_type": "execute_result",
          "data": {
            "text/plain": [
              "Index(['respondent_year', 'confidence_in_supreme_court', 'city_of_residence',\n",
              "       'respondents_income', 'total_family_income', 'respondents_race',\n",
              "       'respondents_sex', 'marital_status', 'respondents_id_num',\n",
              "       'ballot_used'],\n",
              "      dtype='object')"
            ]
          },
          "metadata": {
            "tags": []
          },
          "execution_count": 14
        }
      ]
    },
    {
      "cell_type": "markdown",
      "metadata": {
        "id": "RiHlE98fflof"
      },
      "source": [
        "## Checking unique values for every column\n",
        "There are various different values for each column. We can check the unique values for each column with the built-in method of `unique()`. We can get the number of unique values in a column by calling `nunique()`. \n",
        "\n",
        "Print out the unique values and number of unique values for the following attributes:\n",
        "- Respondent Year\n",
        "- Confidence in Supreme Court\n",
        "- Marital Status\n",
        "- Respondents' Race\n",
        "- Respondents' Sex\n",
        "- Respondents' Income\n",
        "- Ballot Used"
      ]
    },
    {
      "cell_type": "markdown",
      "metadata": {
        "id": "9M3ApRr7DG1h"
      },
      "source": [
        "### Q11 - `respondents_year`"
      ]
    },
    {
      "cell_type": "code",
      "metadata": {
        "id": "G12TPLri_eAb",
        "outputId": "0028a297-9922-4e2c-a8f9-f3f22c4dd391",
        "colab": {
          "base_uri": "https://localhost:8080/"
        }
      },
      "source": [
        "'''\n",
        "# Unique values list\n",
        "print(df.___________________)  # INSERT CODE HERE\n",
        "# Number of unique\n",
        "print(df.___________________)  # INSERT CODE HERE\n",
        "'''\n",
        "print(df.respondent_year.unique())\n",
        "print(df.respondent_year.nunique())"
      ],
      "execution_count": 15,
      "outputs": [
        {
          "output_type": "stream",
          "text": [
            "['1972' '1973' '1974' '1975' '1976' '1977' '1978' '1980' '1982' '1983'\n",
            " '1984' '1985' '1986' '1987' '1988' '1989' '1990' '1991' '1993' '1994'\n",
            " '1996' '1998' '2000' '2002' '2004' '2006' '2008' '2010' '2012' '2014'\n",
            " '2016' '2018']\n",
            "32\n"
          ],
          "name": "stdout"
        }
      ]
    },
    {
      "cell_type": "markdown",
      "metadata": {
        "id": "NdvnImmAEETS"
      },
      "source": [
        "### Q12 - `confidence_in_supreme_court`"
      ]
    },
    {
      "cell_type": "code",
      "metadata": {
        "id": "l_lIdAd7djNv",
        "colab": {
          "base_uri": "https://localhost:8080/"
        },
        "outputId": "2de59b96-8e34-461e-c6a0-a744f603ed90"
      },
      "source": [
        "'''\n",
        "# Unique values list\n",
        "print(df.___________________)  # INSERT CODE HERE\n",
        "# Number of unique\n",
        "print(df.___________________)  # INSERT CODE HERE\n",
        "'''\n",
        "print(df.confidence_in_supreme_court.unique())\n",
        "print(df.confidence_in_supreme_court.nunique())"
      ],
      "execution_count": 16,
      "outputs": [
        {
          "output_type": "stream",
          "text": [
            "['Not applicable' 'A great deal' 'Only some' 'Hardly any' \"Don't know\"\n",
            " 'No answer']\n",
            "6\n"
          ],
          "name": "stdout"
        }
      ]
    },
    {
      "cell_type": "markdown",
      "metadata": {
        "id": "5dcOvM4jEHSn"
      },
      "source": [
        "### Q13 - `marital_status`"
      ]
    },
    {
      "cell_type": "code",
      "metadata": {
        "id": "71tOJ-KbeR3r",
        "colab": {
          "base_uri": "https://localhost:8080/"
        },
        "outputId": "6b109222-870e-4858-d181-55a1c896f72d"
      },
      "source": [
        "'''\n",
        "# Unique values list\n",
        "print(df.___________________)  # INSERT CODE HERE\n",
        "# Number of unique\n",
        "print(df.___________________)  # INSERT CODE HERE\n",
        "'''\n",
        "print(df.marital_status.unique())\n",
        "print(df.marital_status.nunique())"
      ],
      "execution_count": 17,
      "outputs": [
        {
          "output_type": "stream",
          "text": [
            "['Never married' 'Married' 'Divorced' 'Widowed' 'Separated' 'No answer']\n",
            "6\n"
          ],
          "name": "stdout"
        }
      ]
    },
    {
      "cell_type": "markdown",
      "metadata": {
        "id": "8Tx8MgO0EKxu"
      },
      "source": [
        "### Q14 - `respondents_race`"
      ]
    },
    {
      "cell_type": "code",
      "metadata": {
        "id": "86qkOl7EeUCK",
        "colab": {
          "base_uri": "https://localhost:8080/"
        },
        "outputId": "5d8849c5-b158-4895-ef09-6a100f049e2d"
      },
      "source": [
        "'''\n",
        "# Unique values list\n",
        "print(df.___________________)  # INSERT CODE HERE\n",
        "# Number of unique\n",
        "print(df.___________________)  # INSERT CODE HERE\n",
        "'''\n",
        "print(df.respondents_race.unique())\n",
        "print(df.respondents_race.nunique())"
      ],
      "execution_count": 18,
      "outputs": [
        {
          "output_type": "stream",
          "text": [
            "['White' 'Black' 'Other']\n",
            "3\n"
          ],
          "name": "stdout"
        }
      ]
    },
    {
      "cell_type": "markdown",
      "metadata": {
        "id": "mfwwnMlYENSw"
      },
      "source": [
        "### Q15 - `respondents_sex`"
      ]
    },
    {
      "cell_type": "code",
      "metadata": {
        "id": "d5B2eaE5e1ab",
        "colab": {
          "base_uri": "https://localhost:8080/"
        },
        "outputId": "22a4f151-8462-434a-a114-8ada1c2056ad"
      },
      "source": [
        "'''\n",
        "# Unique values list\n",
        "print(df.___________________)  # INSERT CODE HERE\n",
        "# Number of unique\n",
        "print(df.___________________)  # INSERT CODE HERE\n",
        "'''\n",
        "print(df.respondents_sex.unique())\n",
        "print(df.respondents_sex.nunique())"
      ],
      "execution_count": 19,
      "outputs": [
        {
          "output_type": "stream",
          "text": [
            "['Female' 'Male']\n",
            "2\n"
          ],
          "name": "stdout"
        }
      ]
    },
    {
      "cell_type": "markdown",
      "metadata": {
        "id": "BmzPP5PDEQd1"
      },
      "source": [
        "### Q16 - `respondents_income`"
      ]
    },
    {
      "cell_type": "code",
      "metadata": {
        "id": "hoJpohhQe5XH",
        "colab": {
          "base_uri": "https://localhost:8080/"
        },
        "outputId": "6716534f-3c3a-43ec-ae44-99ad516f2b6f"
      },
      "source": [
        "'''\n",
        "# Unique values list\n",
        "print(df.___________________)  # INSERT CODE HERE\n",
        "# Number of unique\n",
        "print(df.___________________)  # INSERT CODE HERE\n",
        "'''\n",
        "print(df.respondents_income.unique())\n",
        "print(df.respondents_income.nunique())"
      ],
      "execution_count": 20,
      "outputs": [
        {
          "output_type": "stream",
          "text": [
            "['Not applicable' '$1000 to 2999' '$15000 - 19999' '$7000 to 7999'\n",
            " '$8000 to 9999' '$20000 - 24999' '$4000 to 4999' \"Don't know\"\n",
            " '$10000 - 14999' '$25000 or more' '$3000 to 3999' 'Lt $1000'\n",
            " '$5000 to 5999' '$6000 to 6999' 'Refused' 'No answer']\n",
            "16\n"
          ],
          "name": "stdout"
        }
      ]
    },
    {
      "cell_type": "markdown",
      "metadata": {
        "id": "jr7GeoO1S3lV"
      },
      "source": [
        "### Q17 - `ballot_used`"
      ]
    },
    {
      "cell_type": "code",
      "metadata": {
        "id": "ZkoVexvve8UF",
        "colab": {
          "base_uri": "https://localhost:8080/"
        },
        "outputId": "029cd8d0-dfc6-4334-9d86-206e9a7e1ad1"
      },
      "source": [
        "'''\n",
        "# Unique values list\n",
        "print(df.___________________)  # INSERT CODE HERE\n",
        "# Number of unique\n",
        "print(df.___________________)  # INSERT CODE HERE\n",
        "'''\n",
        "print(df.ballot_used.unique())\n",
        "print(df.ballot_used.nunique())"
      ],
      "execution_count": 21,
      "outputs": [
        {
          "output_type": "stream",
          "text": [
            "['Not applicable' 'Ballot b' 'Ballot c' 'Ballot a' 'Ballot d']\n",
            "5\n"
          ],
          "name": "stdout"
        }
      ]
    },
    {
      "cell_type": "markdown",
      "metadata": {
        "id": "V5LAnx98L8Ls"
      },
      "source": [
        "*****Questions:*****\n",
        "- What were the values for confidence levels in supreme court? Is this a good scale to measure by?\n",
        "- What are the ranges of income that were surveyed?\n",
        "- How many different types of ballot were cast?"
      ]
    },
    {
      "cell_type": "markdown",
      "metadata": {
        "id": "xG7k61TNRix_"
      },
      "source": [
        "## Organizing Values\n",
        "\n",
        "For basic data visualizations it is difficult to work with categorical data, so for this part we will convert three categorical columns\n",
        "- `respondents_income`\n",
        "- `total_family_income`\n",
        "- `ballot_used`\n",
        "\n",
        "\n",
        "**You don't have to write the code yourself, simply observe the code below and run it.**\n"
      ]
    },
    {
      "cell_type": "code",
      "metadata": {
        "id": "ouPn6FggR3zy",
        "outputId": "9def1db9-a6d2-48f9-9ca6-14700f51153b",
        "colab": {
          "base_uri": "https://localhost:8080/",
          "height": 382
        }
      },
      "source": [
        "# Do not Modify, Only run the following lines of code\n",
        "\n",
        "\n",
        "df['respondents_income']= df['respondents_income'].replace({'Not applicable': 0})\n",
        "df['respondents_income']= df['respondents_income'].replace({'Refused': 0})\n",
        "df['respondents_income']= df['respondents_income'].replace({'Don\\'t know': 0})\n",
        "df['respondents_income']= df['respondents_income'].replace({'No answer': 0})\n",
        "df['respondents_income']= df['respondents_income'].replace({'Lt $1000': 1000})\n",
        "df['respondents_income']= df['respondents_income'].replace({'$1000 to 2999': 2999})\n",
        "df['respondents_income']= df['respondents_income'].replace({'$3000 to 3999': 3999})\n",
        "df['respondents_income']= df['respondents_income'].replace({'$4000 to 4999': 4999})\n",
        "df['respondents_income']= df['respondents_income'].replace({'$5000 to 5999': 5999})\n",
        "df['respondents_income']= df['respondents_income'].replace({'$6000 to 6999': 6999})\n",
        "df['respondents_income']= df['respondents_income'].replace({'$7000 to 7999': 7999})\n",
        "df['respondents_income']= df['respondents_income'].replace({'$8000 to 9999': 9999})\n",
        "df['respondents_income']= df['respondents_income'].replace({'$10000 - 14999': 14999})\n",
        "df['respondents_income']= df['respondents_income'].replace({'$15000 - 19999': 19999})\n",
        "df['respondents_income']= df['respondents_income'].replace({'$20000 - 24999': 24999})\n",
        "df['respondents_income']= df['respondents_income'].replace({'$25000 or more': 25999})\n",
        "\n",
        "df['total_family_income']= df['total_family_income'].replace({'Not applicable': 0})\n",
        "df['total_family_income']= df['total_family_income'].replace({'Refused':0 })\n",
        "df['total_family_income']= df['total_family_income'].replace({'Don\\'t know': 0})\n",
        "df['total_family_income']= df['total_family_income'].replace({'No answer': 0})\n",
        "df['total_family_income']= df['total_family_income'].replace({'Lt $1000': 1000})\n",
        "df['total_family_income']= df['total_family_income'].replace({'$1000 to 2999': 2999})\n",
        "df['total_family_income']= df['total_family_income'].replace({'$3000 to 3999': 3999})\n",
        "df['total_family_income']= df['total_family_income'].replace({'$4000 to 4999': 4999})\n",
        "df['total_family_income']= df['total_family_income'].replace({'$5000 to 5999': 5999})\n",
        "df['total_family_income']= df['total_family_income'].replace({'$6000 to 6999': 6999})\n",
        "df['total_family_income']= df['total_family_income'].replace({'$7000 to 7999': 7999})\n",
        "df['total_family_income']= df['total_family_income'].replace({'$8000 to 9999': 9999})\n",
        "df['total_family_income']= df['total_family_income'].replace({'$10000 - 14999': 14999})\n",
        "df['total_family_income']= df['total_family_income'].replace({'$15000 - 19999': 19999})\n",
        "df['total_family_income']= df['total_family_income'].replace({'$20000 - 24999': 24999})\n",
        "df['total_family_income']= df['total_family_income'].replace({'$25000 or more': 25999})\n",
        "\n",
        "df['ballot_used']= df['ballot_used'].replace({'Not applicable': 0})\n",
        "df['ballot_used']= df['ballot_used'].replace({'Ballot a': 1})\n",
        "df['ballot_used']= df['ballot_used'].replace({'Ballot b': 2})\n",
        "df['ballot_used']= df['ballot_used'].replace({'Ballot c': 3})\n",
        "df['ballot_used']= df['ballot_used'].replace({'Ballot d': 4})\n"
      ],
      "execution_count": 85,
      "outputs": [
        {
          "output_type": "error",
          "ename": "TypeError",
          "evalue": "ignored",
          "traceback": [
            "\u001b[0;31m---------------------------------------------------------------------------\u001b[0m",
            "\u001b[0;31mTypeError\u001b[0m                                 Traceback (most recent call last)",
            "\u001b[0;32m<ipython-input-85-bccbd38943d2>\u001b[0m in \u001b[0;36m<module>\u001b[0;34m()\u001b[0m\n\u001b[1;32m      2\u001b[0m \u001b[0;34m\u001b[0m\u001b[0m\n\u001b[1;32m      3\u001b[0m \u001b[0;34m\u001b[0m\u001b[0m\n\u001b[0;32m----> 4\u001b[0;31m \u001b[0mdf\u001b[0m\u001b[0;34m[\u001b[0m\u001b[0;34m'respondents_income'\u001b[0m\u001b[0;34m]\u001b[0m\u001b[0;34m=\u001b[0m \u001b[0mdf\u001b[0m\u001b[0;34m[\u001b[0m\u001b[0;34m'respondents_income'\u001b[0m\u001b[0;34m]\u001b[0m\u001b[0;34m.\u001b[0m\u001b[0mreplace\u001b[0m\u001b[0;34m(\u001b[0m\u001b[0;34m{\u001b[0m\u001b[0;34m'Not applicable'\u001b[0m\u001b[0;34m:\u001b[0m \u001b[0;36m0\u001b[0m\u001b[0;34m}\u001b[0m\u001b[0;34m)\u001b[0m\u001b[0;34m\u001b[0m\u001b[0;34m\u001b[0m\u001b[0m\n\u001b[0m\u001b[1;32m      5\u001b[0m \u001b[0mdf\u001b[0m\u001b[0;34m[\u001b[0m\u001b[0;34m'respondents_income'\u001b[0m\u001b[0;34m]\u001b[0m\u001b[0;34m=\u001b[0m \u001b[0mdf\u001b[0m\u001b[0;34m[\u001b[0m\u001b[0;34m'respondents_income'\u001b[0m\u001b[0;34m]\u001b[0m\u001b[0;34m.\u001b[0m\u001b[0mreplace\u001b[0m\u001b[0;34m(\u001b[0m\u001b[0;34m{\u001b[0m\u001b[0;34m'Refused'\u001b[0m\u001b[0;34m:\u001b[0m \u001b[0;36m0\u001b[0m\u001b[0;34m}\u001b[0m\u001b[0;34m)\u001b[0m\u001b[0;34m\u001b[0m\u001b[0;34m\u001b[0m\u001b[0m\n\u001b[1;32m      6\u001b[0m \u001b[0mdf\u001b[0m\u001b[0;34m[\u001b[0m\u001b[0;34m'respondents_income'\u001b[0m\u001b[0;34m]\u001b[0m\u001b[0;34m=\u001b[0m \u001b[0mdf\u001b[0m\u001b[0;34m[\u001b[0m\u001b[0;34m'respondents_income'\u001b[0m\u001b[0;34m]\u001b[0m\u001b[0;34m.\u001b[0m\u001b[0mreplace\u001b[0m\u001b[0;34m(\u001b[0m\u001b[0;34m{\u001b[0m\u001b[0;34m'Don\\'t know'\u001b[0m\u001b[0;34m:\u001b[0m \u001b[0;36m0\u001b[0m\u001b[0;34m}\u001b[0m\u001b[0;34m)\u001b[0m\u001b[0;34m\u001b[0m\u001b[0;34m\u001b[0m\u001b[0m\n",
            "\u001b[0;32m/usr/local/lib/python3.6/dist-packages/pandas/core/series.py\u001b[0m in \u001b[0;36mreplace\u001b[0;34m(self, to_replace, value, inplace, limit, regex, method)\u001b[0m\n\u001b[1;32m   4579\u001b[0m             \u001b[0mlimit\u001b[0m\u001b[0;34m=\u001b[0m\u001b[0mlimit\u001b[0m\u001b[0;34m,\u001b[0m\u001b[0;34m\u001b[0m\u001b[0;34m\u001b[0m\u001b[0m\n\u001b[1;32m   4580\u001b[0m             \u001b[0mregex\u001b[0m\u001b[0;34m=\u001b[0m\u001b[0mregex\u001b[0m\u001b[0;34m,\u001b[0m\u001b[0;34m\u001b[0m\u001b[0;34m\u001b[0m\u001b[0m\n\u001b[0;32m-> 4581\u001b[0;31m             \u001b[0mmethod\u001b[0m\u001b[0;34m=\u001b[0m\u001b[0mmethod\u001b[0m\u001b[0;34m,\u001b[0m\u001b[0;34m\u001b[0m\u001b[0;34m\u001b[0m\u001b[0m\n\u001b[0m\u001b[1;32m   4582\u001b[0m         )\n\u001b[1;32m   4583\u001b[0m \u001b[0;34m\u001b[0m\u001b[0m\n",
            "\u001b[0;32m/usr/local/lib/python3.6/dist-packages/pandas/core/generic.py\u001b[0m in \u001b[0;36mreplace\u001b[0;34m(self, to_replace, value, inplace, limit, regex, method)\u001b[0m\n\u001b[1;32m   6499\u001b[0m \u001b[0;34m\u001b[0m\u001b[0m\n\u001b[1;32m   6500\u001b[0m             return self.replace(\n\u001b[0;32m-> 6501\u001b[0;31m                 \u001b[0mto_replace\u001b[0m\u001b[0;34m,\u001b[0m \u001b[0mvalue\u001b[0m\u001b[0;34m,\u001b[0m \u001b[0minplace\u001b[0m\u001b[0;34m=\u001b[0m\u001b[0minplace\u001b[0m\u001b[0;34m,\u001b[0m \u001b[0mlimit\u001b[0m\u001b[0;34m=\u001b[0m\u001b[0mlimit\u001b[0m\u001b[0;34m,\u001b[0m \u001b[0mregex\u001b[0m\u001b[0;34m=\u001b[0m\u001b[0mregex\u001b[0m\u001b[0;34m\u001b[0m\u001b[0;34m\u001b[0m\u001b[0m\n\u001b[0m\u001b[1;32m   6502\u001b[0m             )\n\u001b[1;32m   6503\u001b[0m         \u001b[0;32melse\u001b[0m\u001b[0;34m:\u001b[0m\u001b[0;34m\u001b[0m\u001b[0;34m\u001b[0m\u001b[0m\n",
            "\u001b[0;32m/usr/local/lib/python3.6/dist-packages/pandas/core/series.py\u001b[0m in \u001b[0;36mreplace\u001b[0;34m(self, to_replace, value, inplace, limit, regex, method)\u001b[0m\n\u001b[1;32m   4579\u001b[0m             \u001b[0mlimit\u001b[0m\u001b[0;34m=\u001b[0m\u001b[0mlimit\u001b[0m\u001b[0;34m,\u001b[0m\u001b[0;34m\u001b[0m\u001b[0;34m\u001b[0m\u001b[0m\n\u001b[1;32m   4580\u001b[0m             \u001b[0mregex\u001b[0m\u001b[0;34m=\u001b[0m\u001b[0mregex\u001b[0m\u001b[0;34m,\u001b[0m\u001b[0;34m\u001b[0m\u001b[0;34m\u001b[0m\u001b[0m\n\u001b[0;32m-> 4581\u001b[0;31m             \u001b[0mmethod\u001b[0m\u001b[0;34m=\u001b[0m\u001b[0mmethod\u001b[0m\u001b[0;34m,\u001b[0m\u001b[0;34m\u001b[0m\u001b[0;34m\u001b[0m\u001b[0m\n\u001b[0m\u001b[1;32m   4582\u001b[0m         )\n\u001b[1;32m   4583\u001b[0m \u001b[0;34m\u001b[0m\u001b[0m\n",
            "\u001b[0;32m/usr/local/lib/python3.6/dist-packages/pandas/core/generic.py\u001b[0m in \u001b[0;36mreplace\u001b[0;34m(self, to_replace, value, inplace, limit, regex, method)\u001b[0m\n\u001b[1;32m   6545\u001b[0m                         \u001b[0mdest_list\u001b[0m\u001b[0;34m=\u001b[0m\u001b[0mvalue\u001b[0m\u001b[0;34m,\u001b[0m\u001b[0;34m\u001b[0m\u001b[0;34m\u001b[0m\u001b[0m\n\u001b[1;32m   6546\u001b[0m                         \u001b[0minplace\u001b[0m\u001b[0;34m=\u001b[0m\u001b[0minplace\u001b[0m\u001b[0;34m,\u001b[0m\u001b[0;34m\u001b[0m\u001b[0;34m\u001b[0m\u001b[0m\n\u001b[0;32m-> 6547\u001b[0;31m                         \u001b[0mregex\u001b[0m\u001b[0;34m=\u001b[0m\u001b[0mregex\u001b[0m\u001b[0;34m,\u001b[0m\u001b[0;34m\u001b[0m\u001b[0;34m\u001b[0m\u001b[0m\n\u001b[0m\u001b[1;32m   6548\u001b[0m                     )\n\u001b[1;32m   6549\u001b[0m \u001b[0;34m\u001b[0m\u001b[0m\n",
            "\u001b[0;32m/usr/local/lib/python3.6/dist-packages/pandas/core/internals/managers.py\u001b[0m in \u001b[0;36mreplace_list\u001b[0;34m(self, src_list, dest_list, inplace, regex)\u001b[0m\n\u001b[1;32m    640\u001b[0m         \u001b[0mmask\u001b[0m \u001b[0;34m=\u001b[0m \u001b[0;34m~\u001b[0m\u001b[0misna\u001b[0m\u001b[0;34m(\u001b[0m\u001b[0mvalues\u001b[0m\u001b[0;34m)\u001b[0m\u001b[0;34m\u001b[0m\u001b[0;34m\u001b[0m\u001b[0m\n\u001b[1;32m    641\u001b[0m \u001b[0;34m\u001b[0m\u001b[0m\n\u001b[0;32m--> 642\u001b[0;31m         \u001b[0mmasks\u001b[0m \u001b[0;34m=\u001b[0m \u001b[0;34m[\u001b[0m\u001b[0mcomp\u001b[0m\u001b[0;34m(\u001b[0m\u001b[0ms\u001b[0m\u001b[0;34m,\u001b[0m \u001b[0mmask\u001b[0m\u001b[0;34m,\u001b[0m \u001b[0mregex\u001b[0m\u001b[0;34m)\u001b[0m \u001b[0;32mfor\u001b[0m \u001b[0ms\u001b[0m \u001b[0;32min\u001b[0m \u001b[0msrc_list\u001b[0m\u001b[0;34m]\u001b[0m\u001b[0;34m\u001b[0m\u001b[0;34m\u001b[0m\u001b[0m\n\u001b[0m\u001b[1;32m    643\u001b[0m \u001b[0;34m\u001b[0m\u001b[0m\n\u001b[1;32m    644\u001b[0m         \u001b[0mresult_blocks\u001b[0m \u001b[0;34m=\u001b[0m \u001b[0;34m[\u001b[0m\u001b[0;34m]\u001b[0m\u001b[0;34m\u001b[0m\u001b[0;34m\u001b[0m\u001b[0m\n",
            "\u001b[0;32m/usr/local/lib/python3.6/dist-packages/pandas/core/internals/managers.py\u001b[0m in \u001b[0;36m<listcomp>\u001b[0;34m(.0)\u001b[0m\n\u001b[1;32m    640\u001b[0m         \u001b[0mmask\u001b[0m \u001b[0;34m=\u001b[0m \u001b[0;34m~\u001b[0m\u001b[0misna\u001b[0m\u001b[0;34m(\u001b[0m\u001b[0mvalues\u001b[0m\u001b[0;34m)\u001b[0m\u001b[0;34m\u001b[0m\u001b[0;34m\u001b[0m\u001b[0m\n\u001b[1;32m    641\u001b[0m \u001b[0;34m\u001b[0m\u001b[0m\n\u001b[0;32m--> 642\u001b[0;31m         \u001b[0mmasks\u001b[0m \u001b[0;34m=\u001b[0m \u001b[0;34m[\u001b[0m\u001b[0mcomp\u001b[0m\u001b[0;34m(\u001b[0m\u001b[0ms\u001b[0m\u001b[0;34m,\u001b[0m \u001b[0mmask\u001b[0m\u001b[0;34m,\u001b[0m \u001b[0mregex\u001b[0m\u001b[0;34m)\u001b[0m \u001b[0;32mfor\u001b[0m \u001b[0ms\u001b[0m \u001b[0;32min\u001b[0m \u001b[0msrc_list\u001b[0m\u001b[0;34m]\u001b[0m\u001b[0;34m\u001b[0m\u001b[0;34m\u001b[0m\u001b[0m\n\u001b[0m\u001b[1;32m    643\u001b[0m \u001b[0;34m\u001b[0m\u001b[0m\n\u001b[1;32m    644\u001b[0m         \u001b[0mresult_blocks\u001b[0m \u001b[0;34m=\u001b[0m \u001b[0;34m[\u001b[0m\u001b[0;34m]\u001b[0m\u001b[0;34m\u001b[0m\u001b[0;34m\u001b[0m\u001b[0m\n",
            "\u001b[0;32m/usr/local/lib/python3.6/dist-packages/pandas/core/internals/managers.py\u001b[0m in \u001b[0;36mcomp\u001b[0;34m(s, mask, regex)\u001b[0m\n\u001b[1;32m    634\u001b[0m \u001b[0;34m\u001b[0m\u001b[0m\n\u001b[1;32m    635\u001b[0m             \u001b[0ms\u001b[0m \u001b[0;34m=\u001b[0m \u001b[0mcom\u001b[0m\u001b[0;34m.\u001b[0m\u001b[0mmaybe_box_datetimelike\u001b[0m\u001b[0;34m(\u001b[0m\u001b[0ms\u001b[0m\u001b[0;34m)\u001b[0m\u001b[0;34m\u001b[0m\u001b[0;34m\u001b[0m\u001b[0m\n\u001b[0;32m--> 636\u001b[0;31m             \u001b[0;32mreturn\u001b[0m \u001b[0m_compare_or_regex_search\u001b[0m\u001b[0;34m(\u001b[0m\u001b[0mvalues\u001b[0m\u001b[0;34m,\u001b[0m \u001b[0ms\u001b[0m\u001b[0;34m,\u001b[0m \u001b[0mregex\u001b[0m\u001b[0;34m,\u001b[0m \u001b[0mmask\u001b[0m\u001b[0;34m)\u001b[0m\u001b[0;34m\u001b[0m\u001b[0;34m\u001b[0m\u001b[0m\n\u001b[0m\u001b[1;32m    637\u001b[0m \u001b[0;34m\u001b[0m\u001b[0m\n\u001b[1;32m    638\u001b[0m         \u001b[0;31m# Calculate the mask once, prior to the call of comp\u001b[0m\u001b[0;34m\u001b[0m\u001b[0;34m\u001b[0m\u001b[0;34m\u001b[0m\u001b[0m\n",
            "\u001b[0;32m/usr/local/lib/python3.6/dist-packages/pandas/core/internals/managers.py\u001b[0m in \u001b[0;36m_compare_or_regex_search\u001b[0;34m(a, b, regex, mask)\u001b[0m\n\u001b[1;32m   1990\u001b[0m     \u001b[0;32mif\u001b[0m \u001b[0mis_datetimelike_v_numeric\u001b[0m\u001b[0;34m(\u001b[0m\u001b[0ma\u001b[0m\u001b[0;34m,\u001b[0m \u001b[0mb\u001b[0m\u001b[0;34m)\u001b[0m \u001b[0;32mor\u001b[0m \u001b[0mis_numeric_v_string_like\u001b[0m\u001b[0;34m(\u001b[0m\u001b[0ma\u001b[0m\u001b[0;34m,\u001b[0m \u001b[0mb\u001b[0m\u001b[0;34m)\u001b[0m\u001b[0;34m:\u001b[0m\u001b[0;34m\u001b[0m\u001b[0;34m\u001b[0m\u001b[0m\n\u001b[1;32m   1991\u001b[0m         \u001b[0;31m# GH#29553 avoid deprecation warnings from numpy\u001b[0m\u001b[0;34m\u001b[0m\u001b[0;34m\u001b[0m\u001b[0;34m\u001b[0m\u001b[0m\n\u001b[0;32m-> 1992\u001b[0;31m         \u001b[0m_check_comparison_types\u001b[0m\u001b[0;34m(\u001b[0m\u001b[0;32mFalse\u001b[0m\u001b[0;34m,\u001b[0m \u001b[0ma\u001b[0m\u001b[0;34m,\u001b[0m \u001b[0mb\u001b[0m\u001b[0;34m)\u001b[0m\u001b[0;34m\u001b[0m\u001b[0;34m\u001b[0m\u001b[0m\n\u001b[0m\u001b[1;32m   1993\u001b[0m         \u001b[0;32mreturn\u001b[0m \u001b[0;32mFalse\u001b[0m\u001b[0;34m\u001b[0m\u001b[0;34m\u001b[0m\u001b[0m\n\u001b[1;32m   1994\u001b[0m \u001b[0;34m\u001b[0m\u001b[0m\n",
            "\u001b[0;32m/usr/local/lib/python3.6/dist-packages/pandas/core/internals/managers.py\u001b[0m in \u001b[0;36m_check_comparison_types\u001b[0;34m(result, a, b)\u001b[0m\n\u001b[1;32m   1970\u001b[0m \u001b[0;34m\u001b[0m\u001b[0m\n\u001b[1;32m   1971\u001b[0m             raise TypeError(\n\u001b[0;32m-> 1972\u001b[0;31m                 \u001b[0;34mf\"Cannot compare types {repr(type_names[0])} and {repr(type_names[1])}\"\u001b[0m\u001b[0;34m\u001b[0m\u001b[0;34m\u001b[0m\u001b[0m\n\u001b[0m\u001b[1;32m   1973\u001b[0m             )\n\u001b[1;32m   1974\u001b[0m \u001b[0;34m\u001b[0m\u001b[0m\n",
            "\u001b[0;31mTypeError\u001b[0m: Cannot compare types 'ndarray(dtype=int64)' and 'str'"
          ]
        }
      ]
    },
    {
      "cell_type": "code",
      "metadata": {
        "id": "eKe-7f44FkF0",
        "outputId": "97270bc8-b929-4bf2-a018-2c063d8c0172",
        "colab": {
          "base_uri": "https://localhost:8080/",
          "height": 444
        }
      },
      "source": [
        "df"
      ],
      "execution_count": 24,
      "outputs": [
        {
          "output_type": "execute_result",
          "data": {
            "text/html": [
              "<div>\n",
              "<style scoped>\n",
              "    .dataframe tbody tr th:only-of-type {\n",
              "        vertical-align: middle;\n",
              "    }\n",
              "\n",
              "    .dataframe tbody tr th {\n",
              "        vertical-align: top;\n",
              "    }\n",
              "\n",
              "    .dataframe thead th {\n",
              "        text-align: right;\n",
              "    }\n",
              "</style>\n",
              "<table border=\"1\" class=\"dataframe\">\n",
              "  <thead>\n",
              "    <tr style=\"text-align: right;\">\n",
              "      <th></th>\n",
              "      <th>respondent_year</th>\n",
              "      <th>confidence_in_supreme_court</th>\n",
              "      <th>city_of_residence</th>\n",
              "      <th>respondents_income</th>\n",
              "      <th>total_family_income</th>\n",
              "      <th>respondents_race</th>\n",
              "      <th>respondents_sex</th>\n",
              "      <th>marital_status</th>\n",
              "      <th>respondents_id_num</th>\n",
              "      <th>ballot_used</th>\n",
              "    </tr>\n",
              "  </thead>\n",
              "  <tbody>\n",
              "    <tr>\n",
              "      <th>0</th>\n",
              "      <td>1972</td>\n",
              "      <td>Not applicable</td>\n",
              "      <td>Not applicable</td>\n",
              "      <td>0</td>\n",
              "      <td>0</td>\n",
              "      <td>White</td>\n",
              "      <td>Female</td>\n",
              "      <td>Never married</td>\n",
              "      <td>1.0</td>\n",
              "      <td>0</td>\n",
              "    </tr>\n",
              "    <tr>\n",
              "      <th>1</th>\n",
              "      <td>1972</td>\n",
              "      <td>Not applicable</td>\n",
              "      <td>Not applicable</td>\n",
              "      <td>0</td>\n",
              "      <td>0</td>\n",
              "      <td>White</td>\n",
              "      <td>Male</td>\n",
              "      <td>Married</td>\n",
              "      <td>2.0</td>\n",
              "      <td>0</td>\n",
              "    </tr>\n",
              "    <tr>\n",
              "      <th>2</th>\n",
              "      <td>1972</td>\n",
              "      <td>Not applicable</td>\n",
              "      <td>Not applicable</td>\n",
              "      <td>0</td>\n",
              "      <td>0</td>\n",
              "      <td>White</td>\n",
              "      <td>Female</td>\n",
              "      <td>Married</td>\n",
              "      <td>3.0</td>\n",
              "      <td>0</td>\n",
              "    </tr>\n",
              "    <tr>\n",
              "      <th>3</th>\n",
              "      <td>1972</td>\n",
              "      <td>Not applicable</td>\n",
              "      <td>Not applicable</td>\n",
              "      <td>0</td>\n",
              "      <td>0</td>\n",
              "      <td>White</td>\n",
              "      <td>Female</td>\n",
              "      <td>Married</td>\n",
              "      <td>4.0</td>\n",
              "      <td>0</td>\n",
              "    </tr>\n",
              "    <tr>\n",
              "      <th>4</th>\n",
              "      <td>1972</td>\n",
              "      <td>Not applicable</td>\n",
              "      <td>Not applicable</td>\n",
              "      <td>0</td>\n",
              "      <td>0</td>\n",
              "      <td>White</td>\n",
              "      <td>Female</td>\n",
              "      <td>Married</td>\n",
              "      <td>5.0</td>\n",
              "      <td>0</td>\n",
              "    </tr>\n",
              "    <tr>\n",
              "      <th>...</th>\n",
              "      <td>...</td>\n",
              "      <td>...</td>\n",
              "      <td>...</td>\n",
              "      <td>...</td>\n",
              "      <td>...</td>\n",
              "      <td>...</td>\n",
              "      <td>...</td>\n",
              "      <td>...</td>\n",
              "      <td>...</td>\n",
              "      <td>...</td>\n",
              "    </tr>\n",
              "    <tr>\n",
              "      <th>64809</th>\n",
              "      <td>2018</td>\n",
              "      <td>Not applicable</td>\n",
              "      <td>Not applicable</td>\n",
              "      <td>0</td>\n",
              "      <td>0</td>\n",
              "      <td>White</td>\n",
              "      <td>Female</td>\n",
              "      <td>Divorced</td>\n",
              "      <td>2344.0</td>\n",
              "      <td>1</td>\n",
              "    </tr>\n",
              "    <tr>\n",
              "      <th>64810</th>\n",
              "      <td>2018</td>\n",
              "      <td>Not applicable</td>\n",
              "      <td>Not applicable</td>\n",
              "      <td>19999</td>\n",
              "      <td>25999</td>\n",
              "      <td>White</td>\n",
              "      <td>Female</td>\n",
              "      <td>Married</td>\n",
              "      <td>2345.0</td>\n",
              "      <td>1</td>\n",
              "    </tr>\n",
              "    <tr>\n",
              "      <th>64811</th>\n",
              "      <td>2018</td>\n",
              "      <td>Only some</td>\n",
              "      <td>Not applicable</td>\n",
              "      <td>3999</td>\n",
              "      <td>25999</td>\n",
              "      <td>White</td>\n",
              "      <td>Female</td>\n",
              "      <td>Married</td>\n",
              "      <td>2346.0</td>\n",
              "      <td>3</td>\n",
              "    </tr>\n",
              "    <tr>\n",
              "      <th>64812</th>\n",
              "      <td>2018</td>\n",
              "      <td>A great deal</td>\n",
              "      <td>Not applicable</td>\n",
              "      <td>0</td>\n",
              "      <td>25999</td>\n",
              "      <td>White</td>\n",
              "      <td>Male</td>\n",
              "      <td>Married</td>\n",
              "      <td>2347.0</td>\n",
              "      <td>2</td>\n",
              "    </tr>\n",
              "    <tr>\n",
              "      <th>64813</th>\n",
              "      <td>2018</td>\n",
              "      <td>Not applicable</td>\n",
              "      <td>Not applicable</td>\n",
              "      <td>0</td>\n",
              "      <td>0</td>\n",
              "      <td>White</td>\n",
              "      <td>Female</td>\n",
              "      <td>Widowed</td>\n",
              "      <td>2348.0</td>\n",
              "      <td>1</td>\n",
              "    </tr>\n",
              "  </tbody>\n",
              "</table>\n",
              "<p>64814 rows × 10 columns</p>\n",
              "</div>"
            ],
            "text/plain": [
              "      respondent_year  ... ballot_used\n",
              "0                1972  ...           0\n",
              "1                1972  ...           0\n",
              "2                1972  ...           0\n",
              "3                1972  ...           0\n",
              "4                1972  ...           0\n",
              "...               ...  ...         ...\n",
              "64809            2018  ...           1\n",
              "64810            2018  ...           1\n",
              "64811            2018  ...           3\n",
              "64812            2018  ...           2\n",
              "64813            2018  ...           1\n",
              "\n",
              "[64814 rows x 10 columns]"
            ]
          },
          "metadata": {
            "tags": []
          },
          "execution_count": 24
        }
      ]
    },
    {
      "cell_type": "markdown",
      "metadata": {
        "id": "Ajaux19TShEH"
      },
      "source": [
        "Notice that we have a column for respondent ID number. We also have an index for the entire dataset. Use the pandas built-in features to  replace the respondent ID number column as the table index."
      ]
    },
    {
      "cell_type": "code",
      "metadata": {
        "id": "ms9zHwxuSy7e",
        "outputId": "8aa5831a-2abf-4cdc-d6df-a2796b7f91e2",
        "colab": {
          "base_uri": "https://localhost:8080/",
          "height": 35
        }
      },
      "source": [
        "'''\n",
        "INSERT CODE HERE\n",
        "'''"
      ],
      "execution_count": 189,
      "outputs": [
        {
          "output_type": "execute_result",
          "data": {
            "application/vnd.google.colaboratory.intrinsic+json": {
              "type": "string"
            },
            "text/plain": [
              "'\\nINSERT CODE HERE\\n'"
            ]
          },
          "metadata": {
            "tags": []
          },
          "execution_count": 189
        }
      ]
    },
    {
      "cell_type": "markdown",
      "metadata": {
        "id": "sNyp00jUgglT"
      },
      "source": [
        "## Step 3 - Basic Plots\n",
        "Recall that we learned about the tools to plot data. Lets review some of them now.\n"
      ]
    },
    {
      "cell_type": "markdown",
      "metadata": {
        "id": "q6wcREwCXh9J"
      },
      "source": [
        "kind : `str`\n",
        "\n",
        "        ‘line’ : line plot (default)\n",
        "        ‘bar’ : vertical bar plot\n",
        "        ‘barh’ : horizontal bar plot\n",
        "        ‘hist’ : histogram\n",
        "        ‘box’ : boxplot\n",
        "        ‘kde’ : Kernel Density Estimation plot\n",
        "        ‘density’ : same as ‘kde’\n",
        "        ‘area’ : area plot\n",
        "        ‘pie’ : pie plot\n",
        "        ‘scatter’ : scatter plot\n",
        "        ‘hexbin’ : hexbin plot\n",
        "\n"
      ]
    },
    {
      "cell_type": "code",
      "metadata": {
        "id": "8zMFYGURAj4I"
      },
      "source": [
        "df['respondent_year'] =df['respondent_year'].astype(int) # Don't modify this"
      ],
      "execution_count": 25,
      "outputs": []
    },
    {
      "cell_type": "markdown",
      "metadata": {
        "id": "-uxUOjcY_iZK"
      },
      "source": [
        "### Q18 - Plotting `respondent_year` frequency"
      ]
    },
    {
      "cell_type": "code",
      "metadata": {
        "id": "FyoYY0x8_sj-",
        "outputId": "f941c2a9-bdb2-4428-9041-5f1c293c1950",
        "colab": {
          "base_uri": "https://localhost:8080/",
          "height": 265
        }
      },
      "source": [
        "'''\n",
        "INSERT CODE HERE\n",
        "'''\n",
        "\n",
        "df['respondent_year'].hist(bins=32)\n",
        "\n",
        "\n",
        "plt.show() # Students don't have to write this"
      ],
      "execution_count": 27,
      "outputs": [
        {
          "output_type": "display_data",
          "data": {
            "image/png": "[encoded data removed]",
            "text/plain": [
              "<Figure size 432x288 with 1 Axes>"
            ]
          },
          "metadata": {
            "tags": [],
            "needs_background": "light"
          }
        }
      ]
    },
    {
      "cell_type": "markdown",
      "metadata": {
        "id": "agv8J_OoMvvJ"
      },
      "source": [
        "### Q19 - Plotting frequency of `ballot_used`\n",
        "Let's take a look at the various ballots that were cast.\n",
        "Use `matplotlib` 's `hist()` feature to plot a histogram for the ballots used in this dataset."
      ]
    },
    {
      "cell_type": "code",
      "metadata": {
        "id": "b-GhOJYzheSr",
        "colab": {
          "base_uri": "https://localhost:8080/",
          "height": 282
        },
        "outputId": "8f7d7961-5c8d-4d46-a012-732a127a8a9b"
      },
      "source": [
        "'''\n",
        "INSERT CODE HERE\n",
        "'''\n",
        "df['ballot_used'].hist(bins =4)"
      ],
      "execution_count": 28,
      "outputs": [
        {
          "output_type": "execute_result",
          "data": {
            "text/plain": [
              "<matplotlib.axes._subplots.AxesSubplot at 0x7f9f058a1b38>"
            ]
          },
          "metadata": {
            "tags": []
          },
          "execution_count": 28
        },
        {
          "output_type": "display_data",
          "data": {
            "image/png": "[encoded data removed]",
            "text/plain": [
              "<Figure size 432x288 with 1 Axes>"
            ]
          },
          "metadata": {
            "tags": [],
            "needs_background": "light"
          }
        }
      ]
    },
    {
      "cell_type": "markdown",
      "metadata": {
        "id": "v5by8WrLNCJ4"
      },
      "source": [
        "*****Questions:*****\n",
        "- What conclusions can you form from this data?"
      ]
    },
    {
      "cell_type": "markdown",
      "metadata": {
        "id": "qTS0JmjDNVrT"
      },
      "source": [
        "### Q20 - Plotting Income Brackets\n",
        "This dataset features statistics about people from various income brackets.\n",
        "Use the plot of your choice to graphically represent the various income groups of respondents."
      ]
    },
    {
      "cell_type": "code",
      "metadata": {
        "id": "R2oprvuzE8JO",
        "outputId": "30dcd9da-a651-457b-9deb-15da3009db3e",
        "colab": {
          "base_uri": "https://localhost:8080/",
          "height": 282
        }
      },
      "source": [
        "'''\n",
        "INSERT CODE HERE\n",
        "'''\n",
        "\n",
        "df['respondents_income'].hist(bins =df.respondents_income.nunique())"
      ],
      "execution_count": 29,
      "outputs": [
        {
          "output_type": "execute_result",
          "data": {
            "text/plain": [
              "<matplotlib.axes._subplots.AxesSubplot at 0x7f9f059a4f28>"
            ]
          },
          "metadata": {
            "tags": []
          },
          "execution_count": 29
        },
        {
          "output_type": "display_data",
          "data": {
            "image/png": "[encoded data removed]",
            "text/plain": [
              "<Figure size 432x288 with 1 Axes>"
            ]
          },
          "metadata": {
            "tags": [],
            "needs_background": "light"
          }
        }
      ]
    },
    {
      "cell_type": "markdown",
      "metadata": {
        "id": "twfHfQdfNI5h"
      },
      "source": [
        "*****Questions:*****\n",
        "- What conclusions can you form from this data?"
      ]
    },
    {
      "cell_type": "markdown",
      "metadata": {
        "id": "PpXcK8iUU391"
      },
      "source": [
        "### Plotting Respondent year vs. Family incomes <font color=\"red\">Not Sure about this one</font>\n",
        "Use a plot of your choice to represent the relationship between respondent year and their family income."
      ]
    },
    {
      "cell_type": "code",
      "metadata": {
        "id": "QfqyvLeFVG2N",
        "outputId": "f6f08cdd-19b9-4578-f252-c6fe7ae4d93b",
        "colab": {
          "base_uri": "https://localhost:8080/",
          "height": 312
        }
      },
      "source": [
        "'''\n",
        "INSERT CODE HERE\n",
        "'''\n",
        "\n",
        "df.plot(kind='scatter',\n",
        "        x = 'respondent_year',\n",
        "        y = 'total_family_income',\n",
        "        rot=45)"
      ],
      "execution_count": 83,
      "outputs": [
        {
          "output_type": "execute_result",
          "data": {
            "text/plain": [
              "<matplotlib.axes._subplots.AxesSubplot at 0x7f9eef3cfe80>"
            ]
          },
          "metadata": {
            "tags": []
          },
          "execution_count": 83
        },
        {
          "output_type": "display_data",
          "data": {
            "image/png": "[encoded data removed]",
            "text/plain": [
              "<Figure size 432x288 with 1 Axes>"
            ]
          },
          "metadata": {
            "tags": [],
            "needs_background": "light"
          }
        }
      ]
    },
    {
      "cell_type": "markdown",
      "metadata": {
        "id": "JI_HUzICVIzr"
      },
      "source": [
        "*****Questions:*****\n",
        "- What conclusions can you form from this data?"
      ]
    },
    {
      "cell_type": "markdown",
      "metadata": {
        "id": "o4xKRzPtVd-J"
      },
      "source": [
        "### Plotting Proportions for each Feature <font color=\"red\">Not Sure about this one</font>\n",
        "For each of the following columns:\n",
        "- Confidence in Supreme Court\n",
        "- Marital Status\n",
        "- Respondents' Race\n",
        "- Respondents' Sex\n",
        "- Ballot Used\n",
        "\n",
        "plot a `pie` chart to illustrate a broader picture of the demographics."
      ]
    },
    {
      "cell_type": "code",
      "metadata": {
        "id": "4tqPEC7xVy1g"
      },
      "source": [
        "'''\n",
        "INSERT CODE HERE\n",
        "'''\n",
        "\n"
      ],
      "execution_count": null,
      "outputs": []
    },
    {
      "cell_type": "markdown",
      "metadata": {
        "id": "wp7J97GkV3re"
      },
      "source": [
        "*****Questions:*****\n",
        "- What conclusions can you form from this data?"
      ]
    },
    {
      "cell_type": "markdown",
      "metadata": {
        "id": "ABxnEMRXOkPR"
      },
      "source": [
        "### Plotting Marital Status <font color=\"red\">Not Sure about this one</font>\n",
        "Plot marital status with income and marital status with confidence in supreme court using your plot of choice."
      ]
    },
    {
      "cell_type": "code",
      "metadata": {
        "id": "Z2v-o_FNBzAE",
        "outputId": "5d83df80-2b64-4f57-cb20-22f87cae953c",
        "colab": {
          "base_uri": "https://localhost:8080/"
        }
      },
      "source": [
        "df.columns"
      ],
      "execution_count": 74,
      "outputs": [
        {
          "output_type": "execute_result",
          "data": {
            "text/plain": [
              "Index(['respondent_year', 'confidence_in_supreme_court', 'city_of_residence',\n",
              "       'respondents_income', 'total_family_income', 'respondents_race',\n",
              "       'respondents_sex', 'marital_status', 'respondents_id_num',\n",
              "       'ballot_used'],\n",
              "      dtype='object')"
            ]
          },
          "metadata": {
            "tags": []
          },
          "execution_count": 74
        }
      ]
    },
    {
      "cell_type": "code",
      "metadata": {
        "id": "pu9VE59IMlVR"
      },
      "source": [
        "'''\n",
        "INSERT CODE HERE\n",
        "'''\n",
        "df.plot(kind = 'scatter',\n",
        "        x = 'respondents_income',\n",
        "        y ='marital_status',\n",
        "        alpha=0.4,\n",
        "        rot=45)\n"
      ],
      "execution_count": null,
      "outputs": []
    },
    {
      "cell_type": "code",
      "metadata": {
        "id": "jdCvRGyaCIF9",
        "outputId": "d6eddfa9-1c94-40fc-8ec8-4dcdba2e9faa",
        "colab": {
          "base_uri": "https://localhost:8080/",
          "height": 317
        }
      },
      "source": [
        "df.plot(kind = 'scatter',\n",
        "        x = 'respondents_income',\n",
        "        y ='confidence_in_supreme_court',\n",
        "        alpha=0.4,\n",
        "        rot=45)"
      ],
      "execution_count": 72,
      "outputs": [
        {
          "output_type": "execute_result",
          "data": {
            "text/plain": [
              "<matplotlib.axes._subplots.AxesSubplot at 0x7f9f02adf358>"
            ]
          },
          "metadata": {
            "tags": []
          },
          "execution_count": 72
        },
        {
          "output_type": "display_data",
          "data": {
            "image/png": "[encoded data removed]",
            "text/plain": [
              "<Figure size 432x288 with 1 Axes>"
            ]
          },
          "metadata": {
            "tags": [],
            "needs_background": "light"
          }
        }
      ]
    },
    {
      "cell_type": "markdown",
      "metadata": {
        "id": "_tb2MZ0VOzUI"
      },
      "source": [
        "*****Questions:*****\n",
        "- What conclusions can you form from this data?\n",
        "- What does this suggest about respondents' marital status and their income for this particular dataset?\n",
        "- What does this suggest about respondents' marital status and their confidence with the supreme court for this particular dataset?"
      ]
    },
    {
      "cell_type": "markdown",
      "metadata": {
        "id": "Yc1ZEW8XUCs3"
      },
      "source": [
        "### Plotting Respondent Income <font color=\"red\">Not Sure about this one</font>\n",
        "Plot respondent income vs confidence in supreme court, as well as respondent income vs ballot used using your plot of choice."
      ]
    },
    {
      "cell_type": "code",
      "metadata": {
        "id": "Wy_nTmWoUeLz",
        "outputId": "35a5eed9-0181-4f79-e557-331cbc30b023",
        "colab": {
          "base_uri": "https://localhost:8080/",
          "height": 543
        }
      },
      "source": [
        "'''\n",
        "INSERT CODE HERE\n",
        "'''\n",
        "\n",
        "df.plot(kind ='scatter',\n",
        "        x ='respondents_income',\n",
        "        y = 'confidence_in_supreme_court',\n",
        "        )\n",
        "\n",
        "df.plot(kind ='scatter',\n",
        "        x ='respondents_income',\n",
        "        y = 'ballot_used',\n",
        "        )\n",
        "\n",
        "plt.show()"
      ],
      "execution_count": 70,
      "outputs": [
        {
          "output_type": "display_data",
          "data": {
            "image/png": "[encoded data removed]",
            "text/plain": [
              "<Figure size 432x288 with 1 Axes>"
            ]
          },
          "metadata": {
            "tags": [],
            "needs_background": "light"
          }
        },
        {
          "output_type": "display_data",
          "data": {
            "image/png": "[encoded data removed]",
            "text/plain": [
              "<Figure size 432x288 with 1 Axes>"
            ]
          },
          "metadata": {
            "tags": [],
            "needs_background": "light"
          }
        }
      ]
    },
    {
      "cell_type": "markdown",
      "metadata": {
        "id": "fXL-uz7eUf9n"
      },
      "source": [
        "*****Questions:*****\n",
        "- What conclusions can you form from this data?\n",
        "- What does this suggest about respondents' income and their confidence in the supreme court for this particular dataset?\n",
        "- What does this suggest about respondents'income and what ballot they used for this particular dataset?"
      ]
    },
    {
      "cell_type": "code",
      "metadata": {
        "id": "zYVrrqLTCimv",
        "outputId": "c055a8c0-1110-4cf3-a6ae-bfbda6d760e7",
        "colab": {
          "base_uri": "https://localhost:8080/",
          "height": 638
        }
      },
      "source": [
        "df.plot(kind = 'scatter',\n",
        "        x = 'respondent_year',\n",
        "        y ='city_of_residence',\n",
        "        rot=45,\n",
        "        figsize= (20,10))"
      ],
      "execution_count": 68,
      "outputs": [
        {
          "output_type": "execute_result",
          "data": {
            "text/plain": [
              "<matplotlib.axes._subplots.AxesSubplot at 0x7f9f02fb30b8>"
            ]
          },
          "metadata": {
            "tags": []
          },
          "execution_count": 68
        },
        {
          "output_type": "display_data",
          "data": {
            "image/png": "[encoded data removed]",
            "text/plain": [
              "<Figure size 1440x720 with 1 Axes>"
            ]
          },
          "metadata": {
            "tags": [],
            "needs_background": "light"
          }
        }
      ]
    },
    {
      "cell_type": "markdown",
      "metadata": {
        "id": "JxLkCNodM26k"
      },
      "source": [
        ""
      ]
    },
    {
      "cell_type": "markdown",
      "metadata": {
        "id": "YTs3axx8JnpN"
      },
      "source": [
        "## Observing the latest recorded year "
      ]
    },
    {
      "cell_type": "markdown",
      "metadata": {
        "id": "3PEd68MLRPtt"
      },
      "source": [
        "### Q21a - filter a dataframe that only has the maximum year recorded\n",
        "\n",
        "- You can use `.loc` for this.\n",
        "- Save it as `latest_year_df`"
      ]
    },
    {
      "cell_type": "code",
      "metadata": {
        "id": "XdofWO8WNHjw"
      },
      "source": [
        "'''\n",
        "INSERT CODE HERE\n",
        "'''\n",
        "\n",
        "latest_year_df = df.loc[df['respondent_year'] == 2018]"
      ],
      "execution_count": 37,
      "outputs": []
    },
    {
      "cell_type": "markdown",
      "metadata": {
        "id": "sgGufBKXRbRP"
      },
      "source": [
        "### Q21b - Plot the `respondents_race` for `latest_year_df`"
      ]
    },
    {
      "cell_type": "code",
      "metadata": {
        "id": "MG6rEySCJsgv",
        "outputId": "cd49275d-d5f9-45b7-93a0-c56f1efed2df",
        "colab": {
          "base_uri": "https://localhost:8080/",
          "height": 282
        }
      },
      "source": [
        "'''\n",
        "INSERT CODE HERE\n",
        "'''\n",
        "\n",
        "latest_year_df['respondents_race'].hist()"
      ],
      "execution_count": 38,
      "outputs": [
        {
          "output_type": "execute_result",
          "data": {
            "text/plain": [
              "<matplotlib.axes._subplots.AxesSubplot at 0x7f9f058e3b00>"
            ]
          },
          "metadata": {
            "tags": []
          },
          "execution_count": 38
        },
        {
          "output_type": "display_data",
          "data": {
            "image/png": "[encoded data removed]",
            "text/plain": [
              "<Figure size 432x288 with 1 Axes>"
            ]
          },
          "metadata": {
            "tags": [],
            "needs_background": "light"
          }
        }
      ]
    },
    {
      "cell_type": "markdown",
      "metadata": {
        "id": "i5E18d1dRiDR"
      },
      "source": [
        "### Q21c - Plot the `respondents_sex` for `latest_year_df`"
      ]
    },
    {
      "cell_type": "code",
      "metadata": {
        "id": "tpeCjBZUNubk",
        "outputId": "6b391610-77c0-4636-c393-2a4031517f7a",
        "colab": {
          "base_uri": "https://localhost:8080/",
          "height": 282
        }
      },
      "source": [
        "'''\n",
        "INSERT CODE HERE\n",
        "'''\n",
        "\n",
        "latest_year_df['respondents_sex'].hist()"
      ],
      "execution_count": 53,
      "outputs": [
        {
          "output_type": "execute_result",
          "data": {
            "text/plain": [
              "<matplotlib.axes._subplots.AxesSubplot at 0x7f9f04e24438>"
            ]
          },
          "metadata": {
            "tags": []
          },
          "execution_count": 53
        },
        {
          "output_type": "display_data",
          "data": {
            "image/png": "[encoded data removed]",
            "text/plain": [
              "<Figure size 432x288 with 1 Axes>"
            ]
          },
          "metadata": {
            "tags": [],
            "needs_background": "light"
          }
        }
      ]
    },
    {
      "cell_type": "markdown",
      "metadata": {
        "id": "ivBQ7BjfRmP3"
      },
      "source": [
        "### Q21d - Plot two histograms of `respondents_income` and `total_family_income` for `latest_year_df`"
      ]
    },
    {
      "cell_type": "code",
      "metadata": {
        "id": "xKrZknmDNJht",
        "outputId": "6e9c8231-a0bb-4e78-b4bb-5b526985f0a6",
        "colab": {
          "base_uri": "https://localhost:8080/",
          "height": 333
        }
      },
      "source": [
        "'''\n",
        "INSERT CODE HERE\n",
        "'''\n",
        "\n",
        "latest_year_df.hist(['respondents_income','total_family_income'],\n",
        "                    bins = latest_year_df.respondents_income.nunique())"
      ],
      "execution_count": 51,
      "outputs": [
        {
          "output_type": "execute_result",
          "data": {
            "text/plain": [
              "array([[<matplotlib.axes._subplots.AxesSubplot object at 0x7f9f04fbf438>,\n",
              "        <matplotlib.axes._subplots.AxesSubplot object at 0x7f9f04ed8780>]],\n",
              "      dtype=object)"
            ]
          },
          "metadata": {
            "tags": []
          },
          "execution_count": 51
        },
        {
          "output_type": "display_data",
          "data": {
            "image/png": "[encoded data removed]",
            "text/plain": [
              "<Figure size 432x288 with 2 Axes>"
            ]
          },
          "metadata": {
            "tags": [],
            "needs_background": "light"
          }
        }
      ]
    },
    {
      "cell_type": "markdown",
      "metadata": {
        "id": "6DQxeitOM60X"
      },
      "source": [
        "## Observing a decade before the latest year."
      ]
    },
    {
      "cell_type": "markdown",
      "metadata": {
        "id": "Qxhq7ku5R2tP"
      },
      "source": [
        "### Q22a - filter a dataframe that shows the year 10 years before maximum year recorded\n",
        "\n",
        "- You can use `.loc` for this.\n",
        "- Save it as `decade_earlier_df`"
      ]
    },
    {
      "cell_type": "code",
      "metadata": {
        "id": "_k13vklUMyup"
      },
      "source": [
        "'''\n",
        "INSERT CODE HERE\n",
        "'''\n",
        "\n",
        "decade_earlier_df = df.loc[df['respondent_year'] == 2008]"
      ],
      "execution_count": 34,
      "outputs": []
    },
    {
      "cell_type": "markdown",
      "metadata": {
        "id": "nFwgoPaFSCTL"
      },
      "source": [
        "### Q22b - Plot the `respondents_race` for `decade_earlier_df`"
      ]
    },
    {
      "cell_type": "code",
      "metadata": {
        "id": "A1ibm_CeKMbv",
        "outputId": "1c326007-3f7e-41ed-c8a8-9f18f3ef66ac",
        "colab": {
          "base_uri": "https://localhost:8080/",
          "height": 282
        }
      },
      "source": [
        "'''\n",
        "INSERT CODE HERE\n",
        "'''\n",
        "\n",
        "decade_earlier_df['respondents_race'].hist()"
      ],
      "execution_count": 35,
      "outputs": [
        {
          "output_type": "execute_result",
          "data": {
            "text/plain": [
              "<matplotlib.axes._subplots.AxesSubplot at 0x7f9f057a7f28>"
            ]
          },
          "metadata": {
            "tags": []
          },
          "execution_count": 35
        },
        {
          "output_type": "display_data",
          "data": {
            "image/png": "[encoded data removed]",
            "text/plain": [
              "<Figure size 432x288 with 1 Axes>"
            ]
          },
          "metadata": {
            "tags": [],
            "needs_background": "light"
          }
        }
      ]
    },
    {
      "cell_type": "markdown",
      "metadata": {
        "id": "IhDzUDFvSMWC"
      },
      "source": [
        "### Q22c - Plot the `respondents_sex` for `decade_earlier_df`"
      ]
    },
    {
      "cell_type": "code",
      "metadata": {
        "id": "9RKcoT45NrC6",
        "outputId": "cb35dc7f-e904-4d1f-c78c-815aba662a01",
        "colab": {
          "base_uri": "https://localhost:8080/",
          "height": 282
        }
      },
      "source": [
        "'''\n",
        "INSERT CODE HERE\n",
        "'''\n",
        "\n",
        "decade_earlier_df['respondents_sex'].hist()"
      ],
      "execution_count": 43,
      "outputs": [
        {
          "output_type": "execute_result",
          "data": {
            "text/plain": [
              "<matplotlib.axes._subplots.AxesSubplot at 0x7f9f05412160>"
            ]
          },
          "metadata": {
            "tags": []
          },
          "execution_count": 43
        },
        {
          "output_type": "display_data",
          "data": {
            "image/png": "[encoded data removed]",
            "text/plain": [
              "<Figure size 432x288 with 1 Axes>"
            ]
          },
          "metadata": {
            "tags": [],
            "needs_background": "light"
          }
        }
      ]
    },
    {
      "cell_type": "markdown",
      "metadata": {
        "id": "9dw9LTMbSTWj"
      },
      "source": [
        "### Q22d - Plot two histograms of `respondents_income` and `total_family_income` for `decade_earlier_df`"
      ]
    },
    {
      "cell_type": "code",
      "metadata": {
        "id": "XFrWZpcSPKXK",
        "outputId": "7b5d4255-f2fc-448b-e000-87d4512a6002",
        "colab": {
          "base_uri": "https://localhost:8080/",
          "height": 333
        }
      },
      "source": [
        "'''\n",
        "INSERT CODE HERE\n",
        "'''\n",
        "\n",
        "decade_earlier_df.hist(['respondents_income','total_family_income'],\n",
        "                    bins = decade_earlier_df.respondents_income.nunique())"
      ],
      "execution_count": 55,
      "outputs": [
        {
          "output_type": "execute_result",
          "data": {
            "text/plain": [
              "array([[<matplotlib.axes._subplots.AxesSubplot object at 0x7f9f04cf3208>,\n",
              "        <matplotlib.axes._subplots.AxesSubplot object at 0x7f9f04c54c50>]],\n",
              "      dtype=object)"
            ]
          },
          "metadata": {
            "tags": []
          },
          "execution_count": 55
        },
        {
          "output_type": "display_data",
          "data": {
            "image/png": "[encoded data removed]",
            "text/plain": [
              "<Figure size 432x288 with 2 Axes>"
            ]
          },
          "metadata": {
            "tags": [],
            "needs_background": "light"
          }
        }
      ]
    },
    {
      "cell_type": "markdown",
      "metadata": {
        "id": "fJUhhASWQGT2"
      },
      "source": [
        "#Submission\n",
        "Run this code block to download your answers."
      ]
    },
    {
      "cell_type": "code",
      "metadata": {
        "id": "_H_ntnpZQ6_H"
      },
      "source": [
        "from google.colab import files\n",
        "!zip -r \"{student_id}.zip\" \"{student_id}\"\n",
        "files.download(f\"{student_id}.zip\")"
      ],
      "execution_count": null,
      "outputs": []
    }
  ]
}
